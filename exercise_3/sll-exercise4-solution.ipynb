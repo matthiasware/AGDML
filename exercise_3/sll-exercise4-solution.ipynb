{
 "cells": [
  {
   "cell_type": "markdown",
   "metadata": {},
   "source": [
    "# Exercise 4 - Spelling Correcting | NLP"
   ]
  },
  {
   "cell_type": "markdown",
   "metadata": {},
   "source": [
    "### Task 1\n",
    "- Implement a language-model function for $P(w)$.\n",
    "- You must load the file \"data.txt\", filter the alphabetic expressions (tip: use regex) and calculate the frequencies of occurrences of the existing words.\n",
    "- What are the ten most frequent words and what is their probability of occurrence?"
   ]
  },
  {
   "cell_type": "code",
   "execution_count": 7,
   "metadata": {},
   "outputs": [],
   "source": [
    "import collections\n",
    "import re\n",
    "corpus = [w.lower() for w in re.findall(r'\\w+', open('data.txt', encoding='utf8').read())]\n",
    "words = collections.Counter(corpus)"
   ]
  },
  {
   "cell_type": "code",
   "execution_count": 8,
   "metadata": {},
   "outputs": [],
   "source": [
    "def languageModel(word, n = sum(list(words.values()))):\n",
    "    return words[word] / n"
   ]
  },
  {
   "cell_type": "code",
   "execution_count": 9,
   "metadata": {},
   "outputs": [
    {
     "name": "stdout",
     "output_type": "stream",
     "text": [
      "w     freq(w)\tp(w) \n",
      " ------------------\n",
      "the      5809\t0.05\n",
      "and      3089\t0.03\n",
      "i        3038\t0.03\n",
      "to       2825\t0.03\n",
      "of       2780\t0.03\n",
      "a        2700\t0.02\n",
      "in       1826\t0.02\n",
      "that     1767\t0.02\n",
      "it       1749\t0.02\n",
      "you      1575\t0.01\n"
     ]
    }
   ],
   "source": [
    "print(\"{:<5}{:>8}\\t{:<4}\".format(\"w\", \"freq(w)\", \"p(w)\"), \"\\n\", \"-\"*18)\n",
    "for word, freq in words.most_common(10):\n",
    "    print(\"{:<5}{:8d}\\t{:0.2f}\".format(word, freq, languageModel(word)))"
   ]
  },
  {
   "cell_type": "markdown",
   "metadata": {},
   "source": [
    "### Task 2\n",
    "- Implement a function that creates a set of possible correction candidates $C_w$ for a given word $w$.\n",
    "- You do not need to concatenate operations!\n",
    "- To make things even simpler:\n",
    "    - You can ignore unknown words (words, that do not occur in our corpus)\n",
    "    - If non of the candidates is known, return the word itself.\n",
    "- What is the set of Candidates for the word \"frod\"?"
   ]
  },
  {
   "cell_type": "code",
   "execution_count": 10,
   "metadata": {},
   "outputs": [],
   "source": [
    "import string\n",
    "# fthe ollowing functions were written by Peter Norvig ;) (https://norvig.com/spell-correct.html)\n",
    "def edits1(word):\n",
    "    letters    = string.ascii_lowercase\n",
    "    splits     = [(word[:i], word[i:])    for i in range(len(word) + 1)]\n",
    "    deletes    = [L + R[1:]               for L, R in splits if R]\n",
    "    transposes = [L + R[1] + R[0] + R[2:] for L, R in splits if len(R)>1]\n",
    "    replaces   = [L + c + R[1:]           for L, R in splits if R for c in letters]\n",
    "    inserts    = [L + c + R               for L, R in splits for c in letters]\n",
    "    return set(deletes + transposes + replaces + inserts)\n",
    "\n",
    "def known(wordies): \n",
    "    return set(w for w in wordies if w in words)\n",
    "\n",
    "def candidates(word): \n",
    "    return (known([word]) or known(edits1(word)) or [word])"
   ]
  },
  {
   "cell_type": "code",
   "execution_count": 11,
   "metadata": {},
   "outputs": [
    {
     "data": {
      "text/plain": [
       "{'die', 'lie', 'nice', 'nine', 'nip', 'pie', 'tie'}"
      ]
     },
     "execution_count": 11,
     "metadata": {},
     "output_type": "execute_result"
    }
   ],
   "source": [
    "candidates(\"nie\")"
   ]
  },
  {
   "cell_type": "code",
   "execution_count": 12,
   "metadata": {},
   "outputs": [
    {
     "data": {
      "text/plain": [
       "{'food', 'fro', 'from', 'rod'}"
      ]
     },
     "execution_count": 12,
     "metadata": {},
     "output_type": "execute_result"
    }
   ],
   "source": [
    "candidates(\"frod\")"
   ]
  },
  {
   "cell_type": "markdown",
   "metadata": {},
   "source": [
    "## Error Model\n",
    "\n",
    "### Task 3\n",
    "- Implement a function `correction(word)`\n",
    "- If $w$ is a known word, then $P(w) > P(c^{(k)})$ and therefore return $w$.\n",
    "- If $w$ is unknown  $argmax_k P(c^{(k)})$ and return $c^{(k)}$.\n",
    "- If both $w$ and its corrections are unknown, return $w$.\n"
   ]
  },
  {
   "cell_type": "code",
   "execution_count": 13,
   "metadata": {},
   "outputs": [],
   "source": [
    "def correction(word): \n",
    "    return max(candidates(word), key=languageModel)"
   ]
  },
  {
   "cell_type": "code",
   "execution_count": 14,
   "metadata": {},
   "outputs": [
    {
     "data": {
      "text/plain": [
       "'half'"
      ]
     },
     "execution_count": 14,
     "metadata": {},
     "output_type": "execute_result"
    }
   ],
   "source": [
    "correction(\"halo\")"
   ]
  },
  {
   "cell_type": "markdown",
   "metadata": {},
   "source": [
    "## Evaluation\n",
    "The file `validate.csv` contains a list of evaluation data of the form:\n",
    "\n",
    "    \"right, misspelled\"\n",
    "\n",
    "### Task 4\n",
    "- Use the validation data set to test your first version of the spelling correction function.\n",
    "- What is your success rate?"
   ]
  },
  {
   "cell_type": "code",
   "execution_count": 15,
   "metadata": {},
   "outputs": [],
   "source": [
    "import csv\n",
    "def validate(correction, verbose=False):\n",
    "    with open(\"validate.csv\", \"r\") as file:\n",
    "        r = csv.reader(file)\n",
    "        testset = [row for row in r if row]\n",
    "    failed = []\n",
    "    if verbose:\n",
    "        print(\"  i{:>20}{:>20}{:>20}\".format(\"expected\", \"actual\", \"original\"))\n",
    "    for i, (right, wrong) in enumerate(testset):\n",
    "        c = correction(wrong)\n",
    "        if c != right: \n",
    "            failed.append((right, c, wrong))\n",
    "            if verbose:\n",
    "                print(\"{:3d}{:>20}{:>20}{:>20}\".format(i, right, c, wrong))\n",
    "    success_rate = 1 - len(failed) / len(testset)\n",
    "    return failed, success_rate"
   ]
  },
  {
   "cell_type": "code",
   "execution_count": 18,
   "metadata": {},
   "outputs": [
    {
     "name": "stdout",
     "output_type": "stream",
     "text": [
      "  i            expected              actual            original\n",
      "  4               juice                june                juce\n",
      "  5               juice               jucie               jucie\n",
      "  6               juice               juise               juise\n",
      "  7             locally               local              localy\n",
      "  8             compare             compair             compair\n",
      "  9       pronunciation      pronounciation      pronounciation\n",
      " 18               level               legal               leval\n",
      " 24             further              father              futher\n",
      " 25           available             avaible             avaible\n",
      " 27           necessary           neccesary           neccesary\n",
      " 29           necessary           neccesary           neccesary\n",
      " 31          definition          defenition          defenition\n",
      " 32             receipt              recent              receit\n",
      " 33             receipt             receive             receite\n",
      " 36            initials            inistals            inistals\n",
      " 47                aunt                 art                arnt\n",
      " 48             initial              intial              intial\n",
      " 49               there                 the                ther\n",
      " 51             totally               total              totaly\n",
      " 62            clerical           clearical           clearical\n",
      " 72              latest              latets              latets\n",
      " 73              latest             latiest             latiest\n",
      " 74              latest              latist              latist\n",
      " 76            remember              member              rember\n",
      " 83                cake                 can                 cak\n",
      " 85             pretend             pertend             pertend\n",
      " 86             pretend             protend             protend\n",
      " 87             pretend              prtend              prtend\n",
      " 88             pretend             pritend             pritend\n",
      " 89            choosing             closing             chosing\n",
      " 90               wrote                note                rote\n",
      " 91               wrote                note                wote\n",
      " 94         arrangement           arragment           arragment\n",
      " 95          challenges           chalenges           chalenges\n",
      " 96          challenges           chalenges           chalenges\n",
      " 98               laugh              caught              laught\n",
      "104           personnel          personnell          personnell\n",
      "107               poems               poims               poims\n",
      "108               poems               comes               pomes\n",
      "109              purple              people              perple\n",
      "111            articles            articals            articals\n",
      "115              really              relley              relley\n",
      "116              voting             voteing             voteing\n",
      "117           committee            comittee            comittee\n",
      "120            benefits            benifits            benifits\n",
      "123              levels              levals              levals\n",
      "127            parallel          parrallell          parrallell\n",
      "128       accommodation        accomodation        accomodation\n",
      "129       accommodation        acommodation        acommodation\n",
      "130       accommodation         acomodation         acomodation\n",
      "131             planned              placed              planed\n",
      "132           hierarchy             hierchy             hierchy\n",
      "133         transferred           transfred           transfred\n",
      "134             stomach              stomac              stomac\n",
      "135             stomach            stomache            stomache\n",
      "140            scarcely             scarcly             scarcly\n",
      "141            scarcely            scarecly            scarecly\n",
      "142            scarcely             scarely             scarely\n",
      "143            scarcely            scarsely            scarsely\n",
      "147           auxiliary           auxillary           auxillary\n",
      "149             benefit             benifit             benifit\n",
      "151               fails              failed              failes\n",
      "156                lieu                view                liew\n",
      "157        establishing        astablishing        astablishing\n",
      "158        establishing         establising         establising\n",
      "160               loans               jones               lones\n",
      "161           extremely           extreamly           extreamly\n",
      "168            opposite          oppossitte          oppossitte\n",
      "169            curtains            cartains            cartains\n",
      "170            curtains          cuaritains          cuaritains\n",
      "171            curtains             curtans             curtans\n",
      "172            curtains            curtians            curtians\n",
      "173            curtains            curtions            curtions\n",
      "175             address               acres               adres\n",
      "177             variant            vairiant            vairiant\n",
      "178           supersede           supercede           supercede\n",
      "183               juice                june                juce\n",
      "184               juice               jucie               jucie\n",
      "185               juice               juise               juise\n",
      "186             locally               local              localy\n",
      "187             compare             compair             compair\n",
      "196               level               legal               leval\n",
      "202             further              father              futher\n",
      "203          monitoring          monitering          monitering\n",
      "204           available             avaible             avaible\n",
      "206           necessary           neccesary           neccesary\n",
      "208           necessary           neccesary           neccesary\n",
      "210          definition          defenition          defenition\n",
      "211             receipt              recent              receit\n",
      "212             receipt             receive             receite\n",
      "215            initials            inistals            inistals\n",
      "226             initial              intial              intial\n",
      "227               there                 the                ther\n",
      "229             totally               total              totaly\n",
      "240            clerical           clearical           clearical\n",
      "250              latest              latets              latets\n",
      "251              latest             latiest             latiest\n",
      "252              latest              latist              latist\n",
      "254            remember              member              rember\n",
      "261                cake                 can                 cak\n",
      "263             pretend             pertend             pertend\n",
      "264             pretend             protend             protend\n",
      "265             pretend              prtend              prtend\n",
      "266             pretend             pritend             pritend\n",
      "267            choosing             closing             chosing\n",
      "268               wrote                note                rote\n",
      "269               wrote                note                wote\n",
      "272         arrangement           arragment           arragment\n",
      "273          challenges           chalenges           chalenges\n",
      "274          challenges           chalenges           chalenges\n",
      "276               laugh              caught              laught\n",
      "282           personnel          personnell          personnell\n",
      "285               poems               poims               poims\n",
      "286               poems               comes               pomes\n",
      "287              purple              people              perple\n",
      "289            articles            articals            articals\n",
      "293              really              relley              relley\n",
      "294              voting             voteing             voteing\n",
      "295           committee            comittee            comittee\n",
      "298            benefits            benifits            benifits\n",
      "301              levels              levals              levals\n",
      "305            parallel          parrallell          parrallell\n",
      "306       accommodation        accomodation        accomodation\n",
      "307       accommodation        acommodation        acommodation\n",
      "308       accommodation         acomodation         acomodation\n",
      "309             planned              placed              planed\n",
      "310           hierarchy             hierchy             hierchy\n",
      "311         transferred           transfred           transfred\n",
      "312           accessing            accesing            accesing\n",
      "313             stomach              stomac              stomac\n",
      "314             stomach            stomache            stomache\n",
      "319            scarcely             scarcly             scarcly\n",
      "320            scarcely            scarecly            scarecly\n",
      "321            scarcely             scarely             scarely\n",
      "322            scarcely            scarsely            scarsely\n",
      "326           auxiliary           auxillary           auxillary\n",
      "328             benefit             benifit             benifit\n",
      "330               fails              failed              failes\n",
      "335        establishing        astablishing        astablishing\n",
      "336        establishing         establising         establising\n",
      "338               loans               jones               lones\n",
      "339           extremely           extreamly           extreamly\n",
      "340           centrally             central            centraly\n",
      "347            opposite          oppossitte          oppossitte\n",
      "348            curtains            cartains            cartains\n",
      "349            curtains          cuaritains          cuaritains\n",
      "350            curtains             curtans             curtans\n",
      "351            curtains            curtians            curtians\n",
      "352            curtains            curtions            curtions\n",
      "354             address               acres               adres\n",
      "356             variant            vairiant            vairiant\n",
      "357           supersede           supercede           supercede\n",
      "0.5754189944134078\n"
     ]
    }
   ],
   "source": [
    "failed0, sr0 = validate(correction, verbose=True)\n",
    "print(sr0)"
   ]
  },
  {
   "cell_type": "markdown",
   "metadata": {},
   "source": [
    "## The Noise Channel Model\n",
    "### Task 5\n",
    "- Implement the Noice Channel Model as a new error model.\n",
    "- You can use the confusion matrices given below.\n",
    "- Revalidate your correction function and present your results.\n",
    "- Again you can confine your functions to only consider known words with edit distance one."
   ]
  },
  {
   "cell_type": "code",
   "execution_count": 12,
   "metadata": {},
   "outputs": [],
   "source": [
    "import ast\n",
    "# from \"A Spelling Correction Program Based on a Noisy Channel Model\" by Kernighan et all.\n",
    "with open('addconfusion.data', 'r') as file:\n",
    "    addmatrix=data=ast.literal_eval(file.read())\n",
    "with open('subconfusion.data', 'r') as file:\n",
    "    submatrix=data=ast.literal_eval(file.read())\n",
    "with open('revconfusion.data', 'r') as file:\n",
    "    revmatrix=data=ast.literal_eval(file.read())\n",
    "with open('delconfusion.data', 'r') as file:\n",
    "    delmatrix=data=ast.literal_eval(file.read())"
   ]
  },
  {
   "cell_type": "code",
   "execution_count": 13,
   "metadata": {},
   "outputs": [],
   "source": [
    "def edit_substitutions(L, R):\n",
    "    edits = []\n",
    "    if len(R) >= 1:\n",
    "        for c in string.ascii_lowercase:\n",
    "            word = L + c + R[1:]\n",
    "            if word in words:\n",
    "                edits.append((\"sub\", word, R[0] + c))\n",
    "    return edits\n",
    "\n",
    "def edit_transposes(L, R):\n",
    "    edits = []\n",
    "    if len(R) > 1:\n",
    "        word = L + R[1] + R[0] + R[2:]\n",
    "        #L + R[1] + R[0] + R[2:]\n",
    "        if word in words:\n",
    "            edits.append((\"rev\", word, R[0] + R[1]))\n",
    "    return edits\n",
    "\n",
    "def edit_deletes(L, R):\n",
    "    edits = []\n",
    "    if R != \"\":\n",
    "        if L == \"\":\n",
    "            word = L + R[1:]\n",
    "            ed = \"#\" + R[0]\n",
    "        else:\n",
    "            word = L + R[1:]\n",
    "            ed = L[-1] + R[0]\n",
    "        if word in words:\n",
    "            edits.append((\"del\", word, ed))\n",
    "    return edits\n",
    "\n",
    "def edit_adds(L, R):\n",
    "    edits = []\n",
    "    for c in string.ascii_lowercase:\n",
    "        if L == \"\":\n",
    "            word = L + c + R\n",
    "            xy = \"#\" + c\n",
    "        else:\n",
    "            word = L + c + R\n",
    "            xy = L[-1] + c\n",
    "        if word in words:\n",
    "            edits.append((\"add\", word,  xy))\n",
    "    return edits"
   ]
  },
  {
   "cell_type": "code",
   "execution_count": 14,
   "metadata": {},
   "outputs": [],
   "source": [
    "def candidates(word):\n",
    "    if known([word]):\n",
    "        return None\n",
    "    splits = [(word[:i], word[i:])  for i in range(len(word) + 1)]\n",
    "    edits = [f(L, R) for L, R in splits for f in [edit_adds, edit_deletes, edit_transposes, edit_substitutions]]\n",
    "    edits = [i for e in edits for i in e if i]\n",
    "    return edits"
   ]
  },
  {
   "cell_type": "code",
   "execution_count": 15,
   "metadata": {},
   "outputs": [],
   "source": [
    "def errorModel(edit, candidate, xy):\n",
    "    corpus = \" \".join(words)\n",
    "    x, y = xy\n",
    "    try:\n",
    "        if edit == 'add':\n",
    "            if x == '#':\n",
    "                return addmatrix[x+y]/corpus.count(' '+y)\n",
    "            else:\n",
    "                return addmatrix[x+y]/corpus.count(x)\n",
    "        if edit == 'sub':\n",
    "            return submatrix[(x+y)[0:2]]/corpus.count(y)\n",
    "        if edit == 'rev':\n",
    "            return revmatrix[x+y]/corpus.count(x+y)\n",
    "        if edit == 'del':\n",
    "            if x == '#':\n",
    "                return delmatrix[x+y]/corpus.count(' '+y)\n",
    "            else:\n",
    "                return delmatrix[x+y]/corpus.count(x+y)\n",
    "    except Exception as e:\n",
    "        print(x, y, edit, candidate)\n",
    "        raise Exception()"
   ]
  },
  {
   "cell_type": "code",
   "execution_count": 16,
   "metadata": {},
   "outputs": [],
   "source": [
    "def model(edit, candidate , xy):\n",
    "    return languageModel(candidate) * errorModel(edit, candidate, xy)"
   ]
  },
  {
   "cell_type": "code",
   "execution_count": 17,
   "metadata": {},
   "outputs": [],
   "source": [
    "import numpy as np\n",
    "def correction(word): \n",
    "    cs = candidates(word)\n",
    "    if cs:\n",
    "        idx = np.argmax([model(*c) for c in cs])\n",
    "        return cs[idx][1]\n",
    "    return word"
   ]
  },
  {
   "cell_type": "code",
   "execution_count": 18,
   "metadata": {},
   "outputs": [
    {
     "name": "stdout",
     "output_type": "stream",
     "text": [
      "0.7877094972067039\n"
     ]
    }
   ],
   "source": [
    "failed, sr = validate(correction)\n",
    "print(sr)"
   ]
  }
 ],
 "metadata": {
  "kernelspec": {
   "display_name": "Python 3",
   "language": "python",
   "name": "python3"
  },
  "language_info": {
   "codemirror_mode": {
    "name": "ipython",
    "version": 3
   },
   "file_extension": ".py",
   "mimetype": "text/x-python",
   "name": "python",
   "nbconvert_exporter": "python",
   "pygments_lexer": "ipython3",
   "version": "3.9.1"
  }
 },
 "nbformat": 4,
 "nbformat_minor": 2
}
