{
 "cells": [
  {
   "cell_type": "markdown",
   "id": "civic-rhythm",
   "metadata": {},
   "source": [
    "# Exercise 3 - Spelling Correction with Naive Bayes\n",
    "\n",
    "In this exercise you will learn about a fun application of the *Naive Bayes* classifier: Spelling correction. For the\n",
    "informal and vivid character of natural language, the correction of syntactic and semantic errors in written lan-\n",
    "guage is an extremely hard task. Here you will challenge this problem by applying one of the simplest classification\n",
    "algorithms, namely Naive Bayes and see how it performs.\n",
    "\n",
    "### Submission\n",
    "\n",
    "- Deadline of submission:\n",
    "        x.y.z\n",
    "- Mail your solution notebook or a link to your gitlab repository (with the solution notebook inside) to:\n",
    "        paul.kahlmeyer@uni-jena.de\n",
    "\n",
    "In the event of a persistent problem, do not hesitate to contact the course instructors."
   ]
  },
  {
   "cell_type": "code",
   "execution_count": 1,
   "id": "searching-sponsorship",
   "metadata": {},
   "outputs": [],
   "source": [
    "import numpy as np\n",
    "import re\n",
    "import collections\n",
    "import os\n",
    "import string\n",
    "import csv\n",
    "import matplotlib.pyplot as plt\n",
    "import pickle"
   ]
  },
  {
   "cell_type": "markdown",
   "id": "illegal-sharing",
   "metadata": {},
   "source": [
    "## Problem statement\n",
    "We frame spelling correction as a classification problem and use Bayesian inference to obtain results. Although the\n",
    "basic problem statement is straightforward, there is plenty of room to improve the here applied models, initially\n",
    "published by Peter Norvig.\n",
    "\n",
    "Given an observation $x$ and a corpus of words $W$. For spelling correction, we want to find the most likely correction $w\\in W$ for $x$.\n",
    "In other words, we are looking for \n",
    "\n",
    "\\begin{align}\n",
    "\\text{argmax}_{w\\in W}p(w|x)&=\\text{argmax}_{w\\in W}\\cfrac{p(x|w)p(w)}{p(x)}\\\\\n",
    "&=\\text{argmax}_{w\\in W}p(x|w)p(w)\n",
    "\\end{align}\n",
    "\n",
    "In practice, we do not want to maximize over the complete corpus of words, but rather only over a set of candidate words $C_x\\subset W$ that depends on the observed pattern $x$.\n",
    "\n",
    "\\begin{align}\n",
    "\\text{argmax}_{w\\in C}p(x|w)p(w)\n",
    "\\end{align}"
   ]
  },
  {
   "cell_type": "markdown",
   "id": "fifty-stranger",
   "metadata": {},
   "source": [
    "## Language Model\n",
    "The probability $p(w)$ is also called **language model**, since it represents our model of how words are distributed.\n",
    "There are multiple classes of language models. \n",
    "The simplest class of model is the unigram model, where the probability of each word is fixed and can be obtained by using the frequency of its occurrence in a given corpus.\n",
    "Within the directory `books` you will find several `.txt` files that contain (parts) of books from the [Project Gutenberg](www.gutenberg.org). This source shall provide the basis for obtaining the corpus and for training a language\n",
    "model.\n",
    "\n",
    "Note: Due to some legal issues, Project Gutenberg blocks IP adresses coming from germany.\n",
    "\n",
    "### Task 1\n",
    "Load the book texts from the `.txt` files, filter the alphabetic\n",
    "expressions (hint: use regex) and calculate the frequencies of occurrences of the existing words.\n",
    "What are the top 10 most occuring words?\n",
    "\n",
    "Hints:\n",
    "- the files are encoded in utf-8\n",
    "- use [regex](https://docs.python.org/3/library/re.html) to filter for words"
   ]
  },
  {
   "cell_type": "code",
   "execution_count": 2,
   "id": "thorough-jewelry",
   "metadata": {},
   "outputs": [
    {
     "data": {
      "text/plain": [
       "[('the', 15169),\n",
       " ('and', 10048),\n",
       " ('to', 9813),\n",
       " ('of', 8735),\n",
       " ('I', 7246),\n",
       " ('a', 7090),\n",
       " ('in', 5225),\n",
       " ('was', 4714),\n",
       " ('that', 4443),\n",
       " ('his', 3733)]"
      ]
     },
     "execution_count": 2,
     "metadata": {},
     "output_type": "execute_result"
    }
   ],
   "source": [
    "# TODO: load books and count words\n",
    "\n",
    "p = 'books'\n",
    "words = []\n",
    "for f in os.listdir(p):\n",
    "    content =  open(os.path.join(p,f), encoding='utf8').read()\n",
    "    words += re.findall(r'\\w+', content)\n",
    "\n",
    "\n",
    "n_words = len(words)\n",
    "words = collections.Counter(words)\n",
    "words.most_common(10)"
   ]
  },
  {
   "cell_type": "markdown",
   "id": "congressional-vessel",
   "metadata": {},
   "source": [
    "### Task 2\n",
    "Use the loaded corpus to implement a function that resembles our language model.\n",
    "Use relative frequencies as estimates for $p(w)$."
   ]
  },
  {
   "cell_type": "code",
   "execution_count": 3,
   "id": "trying-eight",
   "metadata": {},
   "outputs": [],
   "source": [
    "def language_model(w):\n",
    "    # TODO: implement language model\n",
    "    return words[w] / n_words"
   ]
  },
  {
   "cell_type": "markdown",
   "id": "apparent-japanese",
   "metadata": {},
   "source": [
    "## Candidate Words\n",
    "Real-world-spelling-errors take multiple shapes. There are typographical errors like insertions, deletions and trans-\n",
    "positions of letters, and there are cognitive errors where the writer substitutes a wrong spelling of a homophone or\n",
    "near-homophone (e.g., dessert for desert, or piece for peace). The detection of the latter require context information\n",
    "and therefore are hard to detect. Thus we focus on the former, which are errors that were produced by the following\n",
    "operations:\n",
    "- transposition (e.g. \"caress\" for \"actress\" : \"ac\" $\\rightarrow$ \"ca\")\n",
    "- deletion (\"acress\" for \"actress\": missing \"t\")\n",
    "- substitutions (\"acress\" for \"access\": substituted \"r\" for \"c\")\n",
    "- insertions (\"actresss\" for \"actress\": added \"s\")\n",
    "\n",
    "Given an observation $x$, we create a set of possible candidates $C_x$ by applying all the possible edit operators on $x$. By concatenating operations, you can transform each word into any other arbitrary word. Yet, to keep things simply\n",
    "we only consider candidates with *at most one* edit distance away from $x$. \n",
    "\n",
    "For instance, the correction candidates for the word \"nie\", could be:\n",
    "\n",
    "\\begin{equation}\n",
    "C_{\\text{nie}} = \\{\\text{die}, \\text{lie}, \\text{pie}, \\text{tie}, \\text{nice}, \\text{nine}, \\text{in}\\}\n",
    "\\end{equation}\n",
    "\n",
    "### Task 3\n",
    "Implement a function that creates a set of all possible correction candidates for a given observation $x$,\n",
    "that are at most one edit distance away from $x$. You do not need to concatenate operations! To make things even simpler:\n",
    "- you can ignore candidates, that do not occur in our corpus\n",
    "- if none of the candidates is known, return the word itself\n",
    "\n",
    "What is the set of correction candidates for the word \"frod\"?"
   ]
  },
  {
   "cell_type": "code",
   "execution_count": 4,
   "id": "aerial-insider",
   "metadata": {},
   "outputs": [],
   "source": [
    "# the following functions were written by Peter Norvig ;) (https://norvig.com/spell-correct.html)\n",
    "\n",
    "def edits1(word):\n",
    "    letters    = string.ascii_lowercase\n",
    "    splits     = [(word[:i], word[i:], i)    for i in range(len(word) + 1)]\n",
    "    deletes    = [(L + R[1:], i)               for L, R, i in splits if R]\n",
    "    transposes = [(L + R[1] + R[0] + R[2:], i) for L, R, i in splits if len(R)>1]\n",
    "    replaces   = [(L + c + R[1:], i)           for L, R, i in splits if R for c in letters]\n",
    "    inserts    = [(L + c + R, i)               for L, R, i in splits for c in letters]\n",
    "    return deletes,transposes,replaces,inserts\n",
    "\n",
    "def known(word_set): \n",
    "    return [(w,i) for w,i in word_set if w in words]\n",
    "\n",
    "def candidates(word): \n",
    "    # TODO: Estimate candidates (you might need additional functions)\n",
    "    deletes, transposes, replaces, inserts = edits1(word)\n",
    "    ret = []\n",
    "    ret += [(('del',i), w) for w,i in known(deletes)]\n",
    "    ret += [(('trans',i), w) for w,i in known(transposes)]\n",
    "    ret += [(('sub',i), w) for w,i in known(replaces)]\n",
    "    ret += [(('ins',i), w) for w,i in known(inserts)]\n",
    "    if word in words or len(ret)==0:\n",
    "        ret.append((('#',0), word))\n",
    "    return ret"
   ]
  },
  {
   "cell_type": "code",
   "execution_count": 5,
   "id": "caring-martin",
   "metadata": {},
   "outputs": [
    {
     "data": {
      "text/plain": [
       "[(('del', 0), 'rod'),\n",
       " (('del', 3), 'fro'),\n",
       " (('sub', 1), 'food'),\n",
       " (('sub', 3), 'from')]"
      ]
     },
     "execution_count": 5,
     "metadata": {},
     "output_type": "execute_result"
    }
   ],
   "source": [
    "candidates(\"frod\")"
   ]
  },
  {
   "cell_type": "markdown",
   "id": "perceived-produce",
   "metadata": {},
   "source": [
    "## Error Model\n",
    "Recall the problem statement:\n",
    "The probability $p(x|w)$ for $w\\in C\\subset W$ is also called **error model**, since it represents our model of correct words (candidates) are altered into the observed pattern $x$.\n",
    "\n",
    "A very simple error model is can be achieved by setting\n",
    "\n",
    "\\begin{equation}\n",
    "p(x|w) := p(w)\n",
    "\\end{equation}\n",
    "\n",
    "which reduces our initial problem to \n",
    "\n",
    "\\begin{align}\n",
    "\\text{argmax}_{w\\in C}p(w)p(w) = \\text{argmax}_{w\\in C}p(w)\n",
    "\\end{align}\n",
    "\n",
    "### Task 4\n",
    "Implement a function `correction`, that returns $\\text{argmax}_{w\\in W}p(w|x)$ for a given input $x$, based on the above definition.\n",
    "\n",
    "Also think about what `correction` should return\n",
    "- if $x$ is a known word?\n",
    "- if $x$ is unknown and has no correction candidates?"
   ]
  },
  {
   "cell_type": "code",
   "execution_count": 6,
   "id": "vital-grace",
   "metadata": {},
   "outputs": [],
   "source": [
    "def correction(x): \n",
    "    # TODO: return correction candidate\n",
    "    can = candidates(x)\n",
    "    can = [c[1] for c in can]\n",
    "    probs = [language_model(c[1]) for c in can]\n",
    "    return can[np.argmax(probs)]"
   ]
  },
  {
   "cell_type": "code",
   "execution_count": 7,
   "id": "selective-terrorist",
   "metadata": {},
   "outputs": [
    {
     "data": {
      "text/plain": [
       "'rod'"
      ]
     },
     "execution_count": 7,
     "metadata": {},
     "output_type": "execute_result"
    }
   ],
   "source": [
    "correction('frod')"
   ]
  },
  {
   "cell_type": "markdown",
   "id": "periodic-acrobat",
   "metadata": {},
   "source": [
    "### Task 5\n",
    "The file `validate.csv` contains a list of evaluation data, where each row contains a sample of the form:\n",
    "\n",
    "\\begin{equation}\n",
    "\\text{right, misspelled}\n",
    "\\end{equation}\n",
    "\n",
    "Use the validation data set to test your first version of the spelling correction function. Use only the data, where the correct word is actually in our word corpus $W$.\n",
    "\n",
    "What is your success rate?\n"
   ]
  },
  {
   "cell_type": "code",
   "execution_count": 8,
   "id": "better-pricing",
   "metadata": {},
   "outputs": [],
   "source": [
    "# TODO: estimate sucess rate on validation data\n",
    "\n",
    "def validate(correction, verbose=False):\n",
    "    # load validation data\n",
    "    with open(\"validate.csv\", \"r\") as file:\n",
    "        r = csv.reader(file)\n",
    "        tmpset = [row for row in r if row]\n",
    "    testset = [x for x in tmpset if x[0] in words]\n",
    "        \n",
    "    # check if correction is actually the correct word\n",
    "    failed = []\n",
    "    if verbose:\n",
    "        print(\"  i{:>20}{:>20}{:>20}\".format(\"expected\", \"actual\", \"original\"))\n",
    "    for i, (right, wrong) in enumerate(testset):\n",
    "        c = correction(wrong)\n",
    "        if c != right: \n",
    "            failed.append((right, c, wrong))\n",
    "            if verbose:\n",
    "                print(\"{:3d}{:>20}{:>20}{:>20}\".format(i, right, c, wrong))\n",
    "    success_rate = 1 - len(failed) / len(testset)\n",
    "    return failed, success_rate"
   ]
  },
  {
   "cell_type": "code",
   "execution_count": 9,
   "id": "charged-august",
   "metadata": {},
   "outputs": [
    {
     "name": "stdout",
     "output_type": "stream",
     "text": [
      "0.7756410256410257\n"
     ]
    }
   ],
   "source": [
    "failed0, sr0 = validate(correction)\n",
    "print(sr0)"
   ]
  },
  {
   "cell_type": "markdown",
   "id": "boring-custody",
   "metadata": {},
   "source": [
    "## The Noisy Channel Model\n",
    "\n",
    "By analyzing the output of your spelling corrector, you find examples where the corrected word is indeed a real\n",
    "word, but not the expected one, for example:\n",
    "\n",
    "\\begin{equation}\n",
    "w=\\text{\"level\"}, x=\\text{\"leval\"}, \\text{correction}=\\text{\"legal\"}\n",
    "\\end{equation}\n",
    "\n",
    "This phenomena occurs due to the simplistic nature of our language model. \n",
    "Unigram models do not include context sensitive information. Thus, improving the language model should naturally\n",
    "improve the validation results.\n",
    "\n",
    "\n",
    "Chapter 5.1 of the book *Speech and Language Processing* by Daniel Jurafsky & James H. Martin introduces another model to improve the success rate. \n",
    "Instead of treating each error equally, we now consider the probability of error occurrences.\n",
    "You find this chapter in the file `chapter5.pdf`.\n",
    "\n",
    "### Task 6\n",
    "\n",
    "Read the chapter. In order to apply the noisy channel model, we need four confusion matrices:\n",
    "- deletion\n",
    "- insertion\n",
    "- substitution\n",
    "- transposition\n",
    "\n",
    "As suggested, we want to build them from a list of misspellings. You can find a [pickeled](https://docs.python.org/3/library/pickle.html) dictionary of misspellings in `misspellings.p` (key = word, value = list of misspellings).\n",
    "\n",
    "Load this dictionary, and compute the four confusion matrices."
   ]
  },
  {
   "cell_type": "code",
   "execution_count": 10,
   "id": "variable-voltage",
   "metadata": {},
   "outputs": [],
   "source": [
    "# TODO: load misspellings.p and compute confusion matrices\n",
    "\n",
    "# load misspellings\n",
    "misspellings = pickle.load(open('misspellings.p', 'rb') )\n",
    "\n",
    "# compute confusion matrices\n",
    "letters = '#'+string.ascii_lowercase\n",
    "\n",
    "# deletion matrix\n",
    "deletion = np.zeros((len(letters), len(letters)-1))\n",
    "for i,x in enumerate(letters):\n",
    "    for j,y in enumerate(letters[1:]):\n",
    "        xy = x+y\n",
    "        yx = y+x\n",
    "        for s in misspellings:\n",
    "            if x=='#':\n",
    "            # find instances where first letter was removed\n",
    "                for ms in misspellings[s]:\n",
    "                    if s[1:] == ms:\n",
    "                        deletion[i,j] += 1\n",
    "            \n",
    "            elif xy in s:\n",
    "            # find instances where xy was typed as x\n",
    "                for ms in misspellings[s]:\n",
    "                    if xy not in ms and x in ms:\n",
    "                        deletion[i,j] += 1\n",
    "deletion = deletion/np.sum(deletion)\n",
    "\n",
    "# insertion matrix\n",
    "insertion = np.zeros((len(letters), len(letters)-1))\n",
    "for i,x in enumerate(letters):\n",
    "    for j,y in enumerate(letters[1:]):\n",
    "        xy = x+y\n",
    "        for s in misspellings:\n",
    "            if x=='#':\n",
    "                # find instances first letter was inserted\n",
    "                for ms in misspellings[s]:\n",
    "                    if ms[1:] == s:\n",
    "                        insertion[i,j] += 1\n",
    "            elif x in s and xy not in s:\n",
    "                \n",
    "                # find instances where x was typed as xy\n",
    "                for ms in misspellings[s]:\n",
    "                    if xy in ms:\n",
    "                        insertion[i,j] +=1\n",
    "insertion = insertion/np.sum(insertion)\n",
    "\n",
    "# substitution matrix\n",
    "substitution = np.zeros((len(letters)-1, len(letters)-1))\n",
    "for i,x in enumerate(letters[1:]):\n",
    "    for j,y in enumerate(letters[1:]):\n",
    "        # find instances where x was typed as y\n",
    "        for s in misspellings:\n",
    "            if x in s and y not in s:\n",
    "                for ms in misspellings[s]:\n",
    "                    if y in ms and x not in ms:\n",
    "                        substitution[i,j] +=1\n",
    "substitution = substitution/np.sum(substitution)\n",
    "\n",
    "# transposition matrix\n",
    "transposition = np.zeros((len(letters)-1, len(letters)-1))\n",
    "for i,x in enumerate(letters[1:]):\n",
    "    for j,y in enumerate(letters[1:]):\n",
    "        # find instances where xy was typed as yx\n",
    "        xy = x+y\n",
    "        yx = y+x\n",
    "        for s in misspellings:\n",
    "            if xy in s and yx not in s:\n",
    "                for ms in misspellings[s]:\n",
    "                    if yx in ms and not xy in ms:\n",
    "                        transposition[i,j] +=1\n",
    "transposition = transposition/np.sum(transposition)"
   ]
  },
  {
   "cell_type": "code",
   "execution_count": 11,
   "id": "recent-butter",
   "metadata": {
    "scrolled": false
   },
   "outputs": [
    {
     "data": {
      "image/png": "[encoded data removed]",
      "text/plain": [
       "<Figure size 864x216 with 4 Axes>"
      ]
     },
     "metadata": {
      "needs_background": "light"
     },
     "output_type": "display_data"
    }
   ],
   "source": [
    "fs = 3\n",
    "fig, axs = plt.subplots(nrows = 1, ncols = 4, figsize=(4*fs,fs))\n",
    "\n",
    "axs[0].imshow(deletion, cmap='gray')\n",
    "axs[0].set_title('Deletion')\n",
    "\n",
    "axs[1].imshow(insertion, cmap='gray')\n",
    "axs[1].set_title('Insertion')\n",
    "\n",
    "axs[2].imshow(substitution, cmap='gray')\n",
    "axs[2].set_title('Substitution')\n",
    "\n",
    "axs[3].imshow(transposition, cmap='gray')\n",
    "axs[3].set_title('Transposition')\n",
    "\n",
    "plt.tight_layout()"
   ]
  },
  {
   "cell_type": "markdown",
   "id": "italic-humanitarian",
   "metadata": {},
   "source": [
    "### Task 7\n",
    "Now that we have the confusion matrices, we can use them to alter the calculation of the error model $p(x|w)$.\n",
    "\n",
    "Implement the noisy channel `error_model` function.\n",
    "\n",
    "Based on this error model implement the `correction_noisy_channel` function that outputs the best correction candidate.\n",
    "\n",
    "Similar to task 5, calculate the sucess rate of the new correction function."
   ]
  },
  {
   "cell_type": "code",
   "execution_count": 12,
   "id": "assigned-ottawa",
   "metadata": {},
   "outputs": [],
   "source": [
    "def letter_idx(letter):\n",
    "    return [i for i,l in enumerate(string.ascii_lowercase) if l==letter][0]\n",
    "\n",
    "def error_model(x,can):\n",
    "    # TODO: Calculate p(x|can) based on confusion matrices\n",
    "    (transf, idx), c = can\n",
    "    if transf == 'del':\n",
    "        if idx == 0: \n",
    "            return deletion[0, letter_idx(x[idx+1])]\n",
    "        else:\n",
    "            return deletion[letter_idx(x[idx])+1, letter_idx(x[idx-1])]\n",
    "    elif transf == 'ins':\n",
    "        idx = min(idx, len(x)-1)\n",
    "        if idx == 0:\n",
    "            return insertion[0, letter_idx(c[idx])]\n",
    "        else:\n",
    "            return insertion[letter_idx(x[idx])+1, letter_idx(c[idx])]\n",
    "    elif transf == 'sub':\n",
    "        return substitution[letter_idx(x[idx]), letter_idx(c[idx])]\n",
    "    elif transf == 'trans':\n",
    "        return substitution[letter_idx(x[idx]), letter_idx(x[idx+1])]\n",
    "    else:\n",
    "        return 1\n",
    "\n",
    "def correction_noisy_channel(x): \n",
    "    # TODO: return best correction candidate based on noisy channel model\n",
    "    can = candidates(x)\n",
    "    p_w = np.array([language_model(c[1]) for c in can])\n",
    "    p_x_w = np.array([error_model(x,c) for c in can])\n",
    "    \n",
    "    return can[np.argmax(p_w*p_x_w)][1]"
   ]
  },
  {
   "cell_type": "code",
   "execution_count": 13,
   "id": "numerous-union",
   "metadata": {},
   "outputs": [
    {
     "name": "stdout",
     "output_type": "stream",
     "text": [
      "0.7756410256410257 0.8365384615384616\n"
     ]
    }
   ],
   "source": [
    "failed0, sr0 = validate(correction)\n",
    "failed1, sr1 = validate(correction_noisy_channel)\n",
    "print(sr0, sr1)"
   ]
  }
 ],
 "metadata": {
  "kernelspec": {
   "display_name": "Python 3",
   "language": "python",
   "name": "python3"
  },
  "language_info": {
   "codemirror_mode": {
    "name": "ipython",
    "version": 3
   },
   "file_extension": ".py",
   "mimetype": "text/x-python",
   "name": "python",
   "nbconvert_exporter": "python",
   "pygments_lexer": "ipython3",
   "version": "3.9.1"
  }
 },
 "nbformat": 4,
 "nbformat_minor": 5
}
