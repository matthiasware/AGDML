{
 "cells": [
  {
   "cell_type": "markdown",
   "metadata": {},
   "source": [
    "# Examples for lecture topics\n",
    "\n",
    "## Generative vs. discriminative\n",
    "\n",
    "You will often find a visualization similar to this one:\n",
    "\n",
    "<img src=\"images/gen_disc.png\">\n",
    "\n",
    "But what is labeled here as discriminative is called predictor in the lecture. It also doesn't reflect that points with the same color still have different probabilities.\n",
    "\n",
    "An example:\n",
    "\n",
    "We want to predict if there will be a traffic jam in a given street, given the weather and rough time:\n",
    "  - $X_1 = \\{\"Friesweg\", \"Hegelstraße\", \"Lommerweg\" \\}$  \n",
    "  - $X_2 = \\{\"Sun\", \"Rain\", \"Snow\" \\}$\n",
    "  - $X_3 = \\{\"Morning\", \"Noon\", \"Evening\", \"Night\" \\}$  \n",
    "  - $Y = \\{0,1 \\}$  (Traffic jam, no = 0, yes = 1)\n",
    "\n"
   ]
  },
  {
   "cell_type": "markdown",
   "metadata": {},
   "source": [
    "# Exercise 0 - Getting started (15 Points)\n",
    "\n",
    "\n",
    "This exercise is meant to get you familiar with Python. Most of the following exercises are inspired by the highly recommended lecture \"Skriptsprachen und Anwendungen (ASQ)\" (FMI-BI0058) by Emanuel Barth.\n",
    "\n",
    "\n",
    "Import needed modules:\n"
   ]
  },
  {
   "cell_type": "code",
   "execution_count": 5,
   "metadata": {},
   "outputs": [],
   "source": [
    "import numpy as np\n",
    "import matplotlib.pyplot as plt\n",
    "import random"
   ]
  },
  {
   "cell_type": "markdown",
   "metadata": {},
   "source": [
    "## Variables, Types\n",
    "\n",
    "In this lab, we will mostly use two basic types of variables: **numbers** and **strings**. These variables can be grouped in [**lists**](https://www.w3schools.com/python/python_lists.asp), [**dictionaries**](https://www.w3schools.com/python/python_dictionaries.asp) or [**sets**](https://www.w3schools.com/python/python_sets.asp)."
   ]
  },
  {
   "cell_type": "markdown",
   "metadata": {},
   "source": [
    "### Task 1 (1 Point)\n",
    "\n",
    "Create several variables:\n",
    "- `x` has the value of 3\n",
    "- `y` has the value of $2^{100}$\n",
    "- `a` is a string with the text \"pretty little string\"\n",
    "- `l` is a list, that holds `x,y` and `a`\n",
    "- `d` is a dictionary with the name and phone number of three (imaginary) people\n",
    "- `s` is a set with 5 numbers"
   ]
  },
  {
   "cell_type": "code",
   "execution_count": 44,
   "metadata": {},
   "outputs": [],
   "source": [
    "# TODO: create variables\n",
    "x = 3\n",
    "y = 2**100\n",
    "a = \"pretty little string\"\n",
    "l = [x,y,a]\n",
    "d = {\n",
    "    'Person1' : 1234,\n",
    "    'Person2' : 4231,\n",
    "    'Person3' : 1324\n",
    "}\n",
    "s = set([1,2,3,4,5])\n",
    "s = {1,2,3,4,5}"
   ]
  },
  {
   "cell_type": "code",
   "execution_count": 45,
   "metadata": {},
   "outputs": [
    {
     "data": {
      "text/plain": [
       "list"
      ]
     },
     "execution_count": 45,
     "metadata": {},
     "output_type": "execute_result"
    }
   ],
   "source": [
    "type(l) # You can verify the type with python"
   ]
  },
  {
   "cell_type": "code",
   "execution_count": 46,
   "metadata": {},
   "outputs": [
    {
     "data": {
      "text/plain": [
       "(3, 1267650600228229401496703205376, 'pretty little string')"
      ]
     },
     "execution_count": 46,
     "metadata": {},
     "output_type": "execute_result"
    }
   ],
   "source": [
    "# Tuples are basically immutable list\n",
    "t = (x,y,a)\n",
    "t\n"
   ]
  },
  {
   "cell_type": "code",
   "execution_count": 47,
   "metadata": {},
   "outputs": [
    {
     "data": {
      "text/plain": [
       "{(3, 1267650600228229401496703205376, 'pretty little string'): 1}"
      ]
     },
     "execution_count": 47,
     "metadata": {},
     "output_type": "execute_result"
    }
   ],
   "source": [
    "dict = {t:1} # Works if all elements of t are hashable, which holds ture for all immutable data types\n",
    "dict"
   ]
  },
  {
   "cell_type": "markdown",
   "metadata": {},
   "source": [
    "https://docs.python.org/3/glossary.html\n",
    "\n",
    "Hashable\n",
    "An object is hashable if it has a hash value which never changes during its lifetime (it needs a `__hash__()` method), and can be compared to other objects (it needs an `__eq__()` method). Hashable objects which compare equal must have the same hash value.\n",
    "\n",
    "Hashability makes an object usable as a dictionary key and a set member, because these data structures use the hash value internally.\n",
    "\n",
    "Most of Python’s immutable built-in objects are hashable; mutable containers (such as lists or dictionaries) are not; immutable containers (such as tuples and frozensets) are only hashable if their elements are hashable. Objects which are instances of user-defined classes are hashable by default. They all compare unequal (except with themselves), and their hash value is derived from their id()."
   ]
  },
  {
   "cell_type": "code",
   "execution_count": 48,
   "metadata": {},
   "outputs": [
    {
     "ename": "TypeError",
     "evalue": "unhashable type: 'list'",
     "output_type": "error",
     "traceback": [
      "\u001b[0;31m---------------------------------------------------------------------------\u001b[0m",
      "\u001b[0;31mTypeError\u001b[0m                                 Traceback (most recent call last)",
      "\u001b[0;32m<ipython-input-48-5b0fe1e0e1a6>\u001b[0m in \u001b[0;36m<module>\u001b[0;34m\u001b[0m\n\u001b[0;32m----> 1\u001b[0;31m \u001b[0mdict\u001b[0m \u001b[0;34m=\u001b[0m \u001b[0;34m{\u001b[0m\u001b[0ml\u001b[0m\u001b[0;34m:\u001b[0m \u001b[0;36m1\u001b[0m\u001b[0;34m}\u001b[0m\u001b[0;34m\u001b[0m\u001b[0;34m\u001b[0m\u001b[0m\n\u001b[0m",
      "\u001b[0;31mTypeError\u001b[0m: unhashable type: 'list'"
     ]
    }
   ],
   "source": [
    "dict = {l: 1} # Doesn't work"
   ]
  },
  {
   "cell_type": "markdown",
   "metadata": {},
   "source": [
    "## Branches and Loops\n",
    "\n",
    "Similar to other programming languages, Python has [**for**](https://www.w3schools.com/python/python_for_loops.asp)- and [**while**](https://www.w3schools.com/python/python_while_loops.asp)- loops, as well as [**if-else**](https://www.w3schools.com/python/python_conditions.asp) conditioning.\n",
    "\n",
    "### Task 2 (1 Point)\n",
    "Use a for loop to iterate over the dictionary `d` and print the persons and their phone numbers."
   ]
  },
  {
   "cell_type": "code",
   "execution_count": 3,
   "metadata": {},
   "outputs": [
    {
     "name": "stdout",
     "output_type": "stream",
     "text": [
      "Person: Person1\tNumber: 1234\n",
      "Person: Person2\tNumber: 4231\n",
      "Person: Person3\tNumber: 1324\n"
     ]
    }
   ],
   "source": [
    "# TODO: iterate over d\n",
    "for p in d:\n",
    "    print(f'Person: {p}\\tNumber: {d[p]}')"
   ]
  },
  {
   "cell_type": "markdown",
   "metadata": {},
   "source": [
    "### Task 3 (1 Points)\n",
    "Use a for loop to iterate over the set `s` and print only the even numbers."
   ]
  },
  {
   "cell_type": "code",
   "execution_count": 7,
   "metadata": {},
   "outputs": [
    {
     "name": "stdout",
     "output_type": "stream",
     "text": [
      "2\n",
      "4\n"
     ]
    }
   ],
   "source": [
    "# TODO: iterate over s, print even numbers\n",
    "for i in s:\n",
    "    if i%2==0:\n",
    "        print(i)"
   ]
  },
  {
   "cell_type": "code",
   "execution_count": 8,
   "metadata": {},
   "outputs": [
    {
     "data": {
      "text/plain": [
       "[2, 4]"
      ]
     },
     "execution_count": 8,
     "metadata": {},
     "output_type": "execute_result"
    }
   ],
   "source": [
    "[x for x in s if x%2==0]"
   ]
  },
  {
   "cell_type": "markdown",
   "metadata": {},
   "source": [
    "### Task 4 (2 Points)\n",
    "Calculate the first 10 powers of 2: ($2^0,2^1,2^2,\\dots,2^9)$ \n",
    "and store them in a list\n",
    "- using a for loop\n",
    "- using a while loop\n",
    "\n",
    "Compare the results."
   ]
  },
  {
   "cell_type": "code",
   "execution_count": 9,
   "metadata": {},
   "outputs": [],
   "source": [
    "# TODO: store first 10 powers of 2 with for loop\n",
    "l1 = [2**i for i in range(10)]\n",
    "\n",
    "# TODO: store first 10 powers of 2 with while loop\n",
    "l2 = []\n",
    "i = 0\n",
    "while i<10:\n",
    "    l2.append(2**i)\n",
    "    i += 1\n",
    "    \n",
    "assert l1 == l2"
   ]
  },
  {
   "cell_type": "markdown",
   "metadata": {},
   "source": [
    "[Functions](https://www.w3schools.com/python/python_functions.asp) are a convenient way to encapsulate calculation steps.\n",
    "\n",
    "### Task 5 (2 Points)\n",
    "Create a function, that returns a list of the first $n$ [fibonacci numbers](https://en.wikipedia.org/wiki/Fibonacci_number)."
   ]
  },
  {
   "cell_type": "code",
   "execution_count": 13,
   "metadata": {},
   "outputs": [
    {
     "data": {
      "text/plain": [
       "[0, 1, 1, 2, 3]"
      ]
     },
     "execution_count": 13,
     "metadata": {},
     "output_type": "execute_result"
    }
   ],
   "source": [
    "# TODO: write function, that outputs list of first n fibonacci numbers\n",
    "def fib(n):\n",
    "    if n < 1:\n",
    "        return []\n",
    "    if n == 1:\n",
    "        return [0]\n",
    "    elif n == 2:\n",
    "        return [0,1]\n",
    "    else: \n",
    "        i = 2\n",
    "        ret = [0,1]\n",
    "        while i < n:\n",
    "            ret.append(ret[-1]+ret[-2])\n",
    "            i += 1\n",
    "        return ret\n",
    "    \n",
    "fib(5)"
   ]
  },
  {
   "cell_type": "markdown",
   "metadata": {},
   "source": [
    "## Classes\n",
    "\n",
    "[**Classes**](https://www.w3schools.com/python/python_classes.asp) are a convenient way to group calculations and attributes into a single instance. In this lab we will use classes to represent algorithms.\n",
    "\n",
    "Below you find an example for an iterative algorithm, that calculates the [moving average](https://en.wikipedia.org/wiki/Moving_average) for a sequence of numbers."
   ]
  },
  {
   "cell_type": "code",
   "execution_count": 14,
   "metadata": {},
   "outputs": [],
   "source": [
    "class moving_average():\n",
    "    def __init__(self, k):\n",
    "        self.k = k\n",
    "        self.datapoints = None\n",
    "        self.averages = None\n",
    "        \n",
    "    def mean(self, datapoints):\n",
    "        return sum(datapoints)/len(datapoints)\n",
    "        \n",
    "    def fit(self,datapoints):\n",
    "        self.datapoints = datapoints\n",
    "        self.averages = []\n",
    "        if self.k < len(self.datapoints):\n",
    "            for i in range(len(self.datapoints)-self.k+1): # here was an error\n",
    "                avg = self.mean(self.datapoints[i:i+self.k])\n",
    "                self.averages.append(avg)"
   ]
  },
  {
   "cell_type": "markdown",
   "metadata": {},
   "source": [
    "### Task 6 (1 Point)\n",
    "\n",
    "Create a toy dataset and use the `moving_average` class to calculate the moving average."
   ]
  },
  {
   "cell_type": "code",
   "execution_count": 26,
   "metadata": {},
   "outputs": [
    {
     "data": {
      "text/plain": [
       "[<matplotlib.lines.Line2D at 0x7f94937d9748>]"
      ]
     },
     "execution_count": 26,
     "metadata": {},
     "output_type": "execute_result"
    },
    {
     "data": {
      "image/png": "[encoded data removed]",
      "text/plain": [
       "<Figure size 432x288 with 1 Axes>"
      ]
     },
     "metadata": {
      "needs_background": "light"
     },
     "output_type": "display_data"
    }
   ],
   "source": [
    "# TODO: create own dataset and use moving average\n",
    "n = 50\n",
    "k = 10\n",
    "\n",
    "\n",
    "datapoints = np.arange(1,n+1,1)**2 \n",
    "noisy_datapoints = datapoints + np.random.random(n)*500-250\n",
    "x_values = np.arange(0,n,1)\n",
    "\n",
    "\n",
    "alg = moving_average(k)\n",
    "alg.fit(noisy_datapoints)\n",
    "\n",
    "\n",
    "plt.plot(x_values, noisy_datapoints)\n",
    "plt.plot(x_values[k-1:],alg.averages)"
   ]
  },
  {
   "cell_type": "code",
   "execution_count": 27,
   "metadata": {},
   "outputs": [
    {
     "data": {
      "text/plain": [
       "[<matplotlib.lines.Line2D at 0x7f94938db438>]"
      ]
     },
     "execution_count": 27,
     "metadata": {},
     "output_type": "execute_result"
    },
    {
     "data": {
      "image/png": "[encoded data removed]",
      "text/plain": [
       "<Figure size 432x288 with 1 Axes>"
      ]
     },
     "metadata": {
      "needs_background": "light"
     },
     "output_type": "display_data"
    }
   ],
   "source": [
    "plt.plot(x_values, noisy_datapoints)\n",
    "plt.plot(x_values[k-1:],alg.averages)\n",
    "plt.plot(x_values, datapoints)"
   ]
  },
  {
   "cell_type": "markdown",
   "metadata": {},
   "source": [
    "### Task 7 (2 Points)\n",
    "\n",
    "Create your own class that implements the (not efficient) approximation of pi from a [circle with known radius and area](https://academo.org/demos/estimating-pi-monte-carlo/). \n",
    "\n",
    "Use the [`random`](https://docs.python.org/3/library/random.html) package for the generation of random numbers. \n",
    "\n",
    " - Area of unit circle: $\\pi*r^2 = \\pi$\n",
    " - Area of square around unit circle: $2^2 = 4$\n",
    " - Probability that point sampled from square is in circle = Area_circle / Area_square = $\\pi/4$\n",
    " - Approximate probability trough random experiment\n",
    "\n",
    "Point in unit circle if $x^2 + y^2 \\leq 1$ by pythagoras:\n",
    "\n",
    "<img src=\"images/unit-circle.svg\" style=\"width:400px\"/>\n",
    "\n",
    "Since $ r^2 = x^2+ y^2 $ and $ r= 1$"
   ]
  },
  {
   "cell_type": "code",
   "execution_count": 30,
   "metadata": {},
   "outputs": [
    {
     "data": {
      "text/plain": [
       "3.143384"
      ]
     },
     "execution_count": 30,
     "metadata": {},
     "output_type": "execute_result"
    }
   ],
   "source": [
    "# TODO: Implement pi approximation within class\n",
    "import math\n",
    "class pi_approximation():\n",
    "\n",
    "    def __init__(self):\n",
    "        self.pi = None\n",
    "        self.count = 0\n",
    "\n",
    "    def fit(self, n_iterations=1000):\n",
    "        for _ in range(n_iterations):\n",
    "            x = random.random()*2-1\n",
    "            y = random.random()*2-1\n",
    "            if 1 > x**2+y**2:\n",
    "                self.count += 1\n",
    "        self.pi = 4*self.count/n_iterations\n",
    "\n",
    "alg = pi_approximation()\n",
    "alg.fit(1000000)\n",
    "alg.pi"
   ]
  },
  {
   "cell_type": "markdown",
   "metadata": {},
   "source": [
    "## Numpy and Matplotlib\n",
    "\n",
    "In the context of scientific computing, [NumPy](https://numpy.org/) is probably the most important package in Python. \n",
    "\n",
    "### Task 8 (1 Point)\n",
    "Install and import numpy. Create a numpy array with 10 numbers. Multiply this array by 10 and calculate the mean of the array."
   ]
  },
  {
   "cell_type": "code",
   "execution_count": 34,
   "metadata": {},
   "outputs": [
    {
     "data": {
      "text/plain": [
       "2.538269544459481"
      ]
     },
     "execution_count": 34,
     "metadata": {},
     "output_type": "execute_result"
    }
   ],
   "source": [
    "# TODO: create numpy array, multiply by 10 and calculate mean\n",
    "a = np.random.rand(10)\n",
    "np.mean(a*10)"
   ]
  },
  {
   "cell_type": "markdown",
   "metadata": {},
   "source": [
    "[Matplotlib](https://matplotlib.org/) is a package for plotting and visualization in Python.\n",
    "\n",
    "### Task 9 (2 Points)\n",
    "\n",
    "Use numpy to calculate the function \n",
    "\\begin{equation}\n",
    "f(x) = x^2-10\\sin(2x)\n",
    "\\end{equation}\n",
    "for $x=1,\\dots,50$. \n",
    "\n",
    "Use matplotlib to draw the function."
   ]
  },
  {
   "cell_type": "code",
   "execution_count": 35,
   "metadata": {},
   "outputs": [
    {
     "data": {
      "text/plain": [
       "[<matplotlib.lines.Line2D at 0x7f9493a11c18>]"
      ]
     },
     "execution_count": 35,
     "metadata": {},
     "output_type": "execute_result"
    },
    {
     "data": {
      "image/png": "[encoded data removed]",
      "text/plain": [
       "<Figure size 432x288 with 1 Axes>"
      ]
     },
     "metadata": {
      "needs_background": "light"
     },
     "output_type": "display_data"
    }
   ],
   "source": [
    "# TODO: calculate and plot the function values\n",
    "def f(x):\n",
    "    return x**2-10*np.sin(2*x)\n",
    "\n",
    "x_values = np.arange(1,51)\n",
    "y_values = f(x_values)\n",
    "\n",
    "plt.plot(x_values, y_values)"
   ]
  }
 ],
 "metadata": {
  "kernelspec": {
   "display_name": "Python 3",
   "language": "python",
   "name": "python3"
  },
  "language_info": {
   "codemirror_mode": {
    "name": "ipython",
    "version": 3
   },
   "file_extension": ".py",
   "mimetype": "text/x-python",
   "name": "python",
   "nbconvert_exporter": "python",
   "pygments_lexer": "ipython3",
   "version": "3.7.1"
  }
 },
 "nbformat": 4,
 "nbformat_minor": 4
}
