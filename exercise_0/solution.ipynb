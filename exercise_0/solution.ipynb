{
 "cells": [
  {
   "cell_type": "markdown",
   "metadata": {},
   "source": [
    "# Exercise 0 - Ordinary Least Squares (25 Points)\n",
    "\n",
    "The first exercise is about linear models.\n",
    "The given data set contains prices and other attributes of approximately 54,000 diamonds. You should fit a linear model to predict the price of a diamond, given its attributes.\n",
    "\n",
    "This exercise is meant to get you started with the tool stack. We use the following python packages:\n",
    "- pandas (https://pandas.pydata.org/)\n",
    "- numpy (http://www.numpy.org/)\n",
    "- matplotlib (https://www.matplotlib.org) and seaborn (https://seaborn.pydata.org)\n",
    "- sklearn (http://scikit-learn.org/)\n",
    "\n",
    "If you are unfamiliar with them, follow the documentation links. In the (unlikely) event of a persistent problem, do not hesitate to contact the course instructors.\n",
    "\n",
    "### Submission\n",
    "\n",
    "- Deadline of submission:\n",
    "        x.y.z\n",
    "- Mail your solution notebook or a link to your gitlab repository to:\n",
    "        paul.kahlmeyer@uni-jena.de\n",
    "\n",
    "### Diamonds Dataset \n",
    "\n",
    "- price: price in US dollars (326.0 - 18823.0)\n",
    "- carat: weight of the diamond (0.2 - 5.01)\n",
    "- cut: quality of the cut (Fair, Good, Very Good, Premium, Ideal)\n",
    "- color: diamond colour, from J (worst) to D (best)\n",
    "- clarity: a measurement of how clear the diamond is (I1 (worst), SI2, SI1, VS2, VS1, VVS2, VVS1, IF (best))\n",
    "- x: length in mm (0--10.74)\n",
    "- y: width in mm (0--58.9)\n",
    "- z: depth in mm (0--31.8)\n",
    "- depth: total depth percentage = z / mean(x, y) = 2 * z / (x + y) (43--79)\n",
    "- table: width of top of diamond relative to widest point (43--95)\n"
   ]
  },
  {
   "cell_type": "markdown",
   "metadata": {},
   "source": [
    "### Task 1 (1 Point)\n",
    "Import the data from the file and examine it.\n",
    "\n",
    "Determine the following:\n",
    "\n",
    "* The number of data points. (*Hint:* check out the dataframe `.shape` attribute.)\n",
    "* The column names. (*Hint:* check out the dataframe `.columns` attribute.)\n",
    "* The data types for each column. (*Hint:* check out the dataframe `.dtypes` attribute.)"
   ]
  },
  {
   "cell_type": "code",
   "execution_count": 1,
   "metadata": {},
   "outputs": [
    {
     "name": "stdout",
     "output_type": "stream",
     "text": [
      "Number of datapoints: 53940\n",
      "Column names: ['carat', 'cut', 'color', 'clarity', 'depth', 'table', 'price', 'x', 'y', 'z']\n",
      "Datatypes:\n",
      "carat      float64\n",
      "cut         object\n",
      "color       object\n",
      "clarity     object\n",
      "depth      float64\n",
      "table      float64\n",
      "price        int64\n",
      "x          float64\n",
      "y          float64\n",
      "z          float64\n",
      "dtype: object\n"
     ]
    }
   ],
   "source": [
    "import pandas as pd\n",
    "import numpy as np\n",
    "\n",
    "# TODO: load data\n",
    "data = pd.read_csv('diamonds.csv')\n",
    "\n",
    "# TODO: determine number of datapoints\n",
    "n_data = data.shape[0]\n",
    "print(f'Number of datapoints: {data.shape[0]}')\n",
    "\n",
    "# TODO: determine column names\n",
    "col_names = list(data.keys())\n",
    "print(f'Column names: {col_names}')\n",
    "\n",
    "# TODO: determine datatypes of columns\n",
    "dtypes = data.dtypes\n",
    "print(f'Datatypes:\\n{dtypes}')"
   ]
  },
  {
   "cell_type": "markdown",
   "metadata": {},
   "source": [
    "### Task 2 (2 Points)\n",
    "\n",
    "Since there are discrete variables and we do not yet know how to include them into our regression model, remove them. Additionally, verify that there are no missing values in our dataset.\n",
    "\n",
    "Hint: there are multiple ways to [check](https://towardsdatascience.com/how-to-check-for-missing-values-in-pandas-d2749e45a345) for missing values"
   ]
  },
  {
   "cell_type": "code",
   "execution_count": 2,
   "metadata": {},
   "outputs": [],
   "source": [
    "# TODO: remove discrete variables (1 Point)\n",
    "data = data.drop(columns=['cut', 'color', 'clarity'])\n",
    "\n",
    "# TODO: check for missing values (1 Point)\n",
    "assert not np.isnan(data.values).any()"
   ]
  },
  {
   "cell_type": "markdown",
   "metadata": {},
   "source": [
    "Visualizing correlation in your data often helps to build intuition and get a feeling of the deeper mojo in the set.\n",
    "\n",
    "Here we want to use the [Pearson correlation coefficient](https://en.wikipedia.org/wiki/Pearson_correlation_coefficient) as a measure for correlation between two variables.\n",
    "\n",
    "Let $x$ and $y$ be two variables of our dataset (e.g. `carat` and `price`). The empirical Pearson correlation coefficient between $x$ and $y$ is defined as \n",
    "\n",
    "\\begin{align}\n",
    "r_{xy} = \\cfrac{\\sum_{i=1}^n(x_i-\\bar{x})(y_i-\\bar{y})}{\\sqrt{\\sum_{i=1}^n(x_i-\\bar{x})^2}\\sqrt{\\sum_{i=1}^n(y_i-\\bar{y})^2}}\\,,\n",
    "\\end{align}\n",
    "where $\\bar{x}$ and $\\bar{y}$ are the respective empirical means.\n",
    "\n",
    "### Task 3 (5 Points)\n",
    "\n",
    "Implement a function `pearson_corr`, that takes two vectors $[x_i]_{i=1,\\dots n}, [y_i]_{i=1,\\dots n}$ as well as $\\bar{x}$ and $\\bar{y}$ and computes $r_{xy}$. Use this function to calculate the pairwise correlation matrix for our dataset. Visualize this correlation matrix and label the rows/columns."
   ]
  },
  {
   "cell_type": "code",
   "execution_count": 3,
   "metadata": {},
   "outputs": [
    {
     "data": {
      "text/plain": [
       "Text(0.5, 1.0, 'Correlation matrix')"
      ]
     },
     "execution_count": 3,
     "metadata": {},
     "output_type": "execute_result"
    },
    {
     "data": {
      "image/png": "[encoded data removed]",
      "text/plain": [
       "<Figure size 432x288 with 1 Axes>"
      ]
     },
     "metadata": {
      "needs_background": "light"
     },
     "output_type": "display_data"
    }
   ],
   "source": [
    "import matplotlib.pyplot as plt\n",
    "\n",
    "def pearson_corr(x, y, x_bar, y_bar):\n",
    "    # TODO: calculate correlation coefficient (1 Point)\n",
    "    tmp1 = np.sum((x-x_bar)*(y-y_bar))\n",
    "    tmp2 = np.sqrt(np.sum((x-x_bar)**2)) * np.sqrt(np.sum((y-y_bar)**2))\n",
    "    return tmp1/tmp2\n",
    "\n",
    "# TODO: calculate pairwise correlation matrix (2 Points)\n",
    "# calculate means: 1 Point\n",
    "# use pearson_corr: 1 Point\n",
    "values = data.to_numpy()\n",
    "means = np.mean(values, axis=0)\n",
    "centered_values = values-means\n",
    "d = values.shape[1]\n",
    "\n",
    "corr_matrix = np.zeros((d,d))\n",
    "for i in range(d):\n",
    "    for j in range(d):\n",
    "        corr_matrix[i,j] = pearson_corr(values[:,i], values[:,j], means[i], means[j])\n",
    "\n",
    "\n",
    "# TODO: visualize matrix and label the rows/columns (2 Points)\n",
    "# plot corr matrix: 1 Point\n",
    "# set labels: 1 Point\n",
    "plt.imshow(corr_matrix, cmap='Blues')\n",
    "plt.xticks(np.arange(d), labels = data.keys())\n",
    "plt.yticks(np.arange(d), labels = data.keys())\n",
    "plt.title('Correlation matrix')"
   ]
  },
  {
   "cell_type": "markdown",
   "metadata": {},
   "source": [
    "### Task 4 (1 Point)\n",
    "Make a scatter plot of `carat` vs `price` using Matplotlib. Label the axes and give the plot a title."
   ]
  },
  {
   "cell_type": "code",
   "execution_count": 4,
   "metadata": {},
   "outputs": [
    {
     "data": {
      "text/plain": [
       "Text(0.5, 1.0, 'Carat vs. Price')"
      ]
     },
     "execution_count": 4,
     "metadata": {},
     "output_type": "execute_result"
    },
    {
     "data": {
      "image/png": "[encoded data removed]",
      "text/plain": [
       "<Figure size 432x288 with 1 Axes>"
      ]
     },
     "metadata": {
      "needs_background": "light"
     },
     "output_type": "display_data"
    }
   ],
   "source": [
    "# TODO: display data in scatter plot + label axes + set title\n",
    "carats = data['carat']\n",
    "prices = data['price']\n",
    "plt.scatter(carats, prices)\n",
    "plt.xlabel('carat')\n",
    "plt.ylabel('price')\n",
    "plt.title('Carat vs. Price')"
   ]
  },
  {
   "cell_type": "markdown",
   "metadata": {},
   "source": [
    "### Task 5 (5 Points)\n",
    "Fit a linear model by using maximum likelihood estimation (cf. The Lecture). Here we want to predict the `price` of a diamond from the variable `carat` by implementing the OLS method by yourself.\n",
    "\n",
    "- Build the design matrix $\\mathbb{X}$ and the vector of the dependent variable $Y$.\n",
    "- Estimate the parameter vector $\\theta$\n",
    "- Make a scatter plot of `carat` vs `price` and include the regression line"
   ]
  },
  {
   "cell_type": "code",
   "execution_count": 5,
   "metadata": {},
   "outputs": [
    {
     "data": {
      "text/plain": [
       "[<matplotlib.lines.Line2D at 0x20edb2f4af0>]"
      ]
     },
     "execution_count": 5,
     "metadata": {},
     "output_type": "execute_result"
    },
    {
     "data": {
      "image/png": "[encoded data removed]",
      "text/plain": [
       "<Figure size 432x288 with 1 Axes>"
      ]
     },
     "metadata": {
      "needs_background": "light"
     },
     "output_type": "display_data"
    }
   ],
   "source": [
    "# TODO: build X, y (1 Point)\n",
    "X = np.stack([np.ones(carats.shape[0]),carats])\n",
    "y = np.array(prices)\n",
    "\n",
    "# TODO: estimate theta (2 Points)\n",
    "# correct Formula: 1 Point\n",
    "# linalg.solve instead of inverse: 1 Point\n",
    "theta = np.linalg.solve((X @ X.T), X @ y)\n",
    "\n",
    "# TODO: plot data + regression line (2 Points)\n",
    "# predict values for regression line: 1 Point\n",
    "# scatter plot + line: 1 Point\n",
    "preds = theta @ X \n",
    "plt.scatter(carats, prices)\n",
    "plt.plot(carats, preds, color='red')"
   ]
  },
  {
   "cell_type": "markdown",
   "metadata": {},
   "source": [
    "### Task 6 (2 Points)\n",
    "\n",
    "You can find an implementation of this method in the python module scikit-learn. Use it and compare your result."
   ]
  },
  {
   "cell_type": "code",
   "execution_count": 6,
   "metadata": {},
   "outputs": [],
   "source": [
    "# TODO: use scikit learn to estimate theta (1 Point)\n",
    "from sklearn.linear_model import LinearRegression\n",
    "reg = LinearRegression(fit_intercept=False).fit(X.T, y)\n",
    "\n",
    "# TODO: compare results (1 Point)\n",
    "assert np.all(np.isclose(theta, reg.coef_))"
   ]
  },
  {
   "cell_type": "markdown",
   "metadata": {},
   "source": [
    "### Task 7 (5 Points)\n",
    "\n",
    "Build a model to predict the `price` from the variables `carat`, `depth`, `table`, `x`, `y`, `z`.\n",
    "\n",
    "- Build the design matrix\n",
    "- Estimate the parameter vector $\\theta$\n",
    "- Compare your results with the result that the `LinearRegression` module from scikit-learn gives you."
   ]
  },
  {
   "cell_type": "code",
   "execution_count": 7,
   "metadata": {},
   "outputs": [],
   "source": [
    "# TODO: build X, y (2 Points)\n",
    "# get correct variables: 1 Point\n",
    "# transpose and concat with 1-vector: 1 Point\n",
    "X = np.concatenate([np.ones((1, len(data))), data.drop(columns='price').values.T], axis=0)\n",
    "y = np.array(prices)\n",
    "\n",
    "# TODO: estimate theta (1 Point)\n",
    "theta = np.linalg.solve((X @ X.T), X @ y)\n",
    "\n",
    "# TODO: estimate theta using scikit-learn + compare (1 Point)\n",
    "reg = LinearRegression(fit_intercept=False).fit(X.T, y)\n",
    "theta, reg.coef_\n",
    "assert np.all(np.isclose(theta, reg.coef_))"
   ]
  },
  {
   "cell_type": "markdown",
   "metadata": {
    "collapsed": true
   },
   "source": [
    "### Question 8 (4 Points)\n",
    "\n",
    "The [coefficient of determination](https://en.wikipedia.org/wiki/Coefficient_of_determination) (a.k.a. $R^2$) is the proportion of variation in the predictions $Y$, explained by the observations $\\mathbb{X}$ that is commonly used to measure the Goodness-of-Fit of a linear model.\n",
    "\n",
    "- Calculate the $R^2$ for you model.\n",
    "- Is $R^2$ a good measure for the goodness-of-fit?\n",
    "- What are its advantages?\n",
    "- What are its limits?"
   ]
  },
  {
   "cell_type": "code",
   "execution_count": 8,
   "metadata": {},
   "outputs": [
    {
     "name": "stdout",
     "output_type": "stream",
     "text": [
      "R^2 Score: 0.8592186831580985\n"
     ]
    }
   ],
   "source": [
    "# TODO: calculate R^2 (2 Points)\n",
    "# correct formula: 1 Point\n",
    "# correct result: 1 Point\n",
    "preds = theta @ X\n",
    "SS_tot = np.sum((y-np.mean(y))**2)\n",
    "SS_res = np.sum((y-preds)**2)\n",
    "R2 = 1-SS_res/SS_tot\n",
    "print(f'R^2 Score: {R2}')\n",
    "\n",
    "# TODO: strengths and weaknesses of R^2 (2 Points)\n",
    "# Strengths: 1 Point\n",
    "# Weaknesses: 1 Point"
   ]
  },
  {
   "cell_type": "markdown",
   "metadata": {},
   "source": [
    "$R^2$ is good for \n",
    "- Assessing the quality of fit with a linear regressor\n",
    "- comparing different linear regressors\n",
    "\n",
    "$R^2$ does not indicate whether:\n",
    "- the independent variables are a cause of the changes in the dependent variable;\n",
    "- omitted-variable bias exists;\n",
    "- the correct regression was used;\n",
    "- the most appropriate set of independent variables has been chosen;\n",
    "- there is collinearity present in the data on the explanatory variables;\n",
    "- the model might be improved by using transformed versions of the existing set of independent variables;\n",
    "- there are enough data points to make a solid conclusion"
   ]
  }
 ],
 "metadata": {
  "kernelspec": {
   "display_name": "Python 3",
   "language": "python",
   "name": "python3"
  },
  "language_info": {
   "codemirror_mode": {
    "name": "ipython",
    "version": 3
   },
   "file_extension": ".py",
   "mimetype": "text/x-python",
   "name": "python",
   "nbconvert_exporter": "python",
   "pygments_lexer": "ipython3",
   "version": "3.9.1"
  }
 },
 "nbformat": 4,
 "nbformat_minor": 2
}
