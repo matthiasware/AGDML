{
 "cells": [
  {
   "cell_type": "markdown",
   "metadata": {},
   "source": [
    "# Exercise 0 - Getting started (15 Points)\n",
    "\n",
    "<div>\n",
    "<img src=\"images/python-logo.png\" width=\"100\"/>\n",
    "</div>\n",
    "\n",
    "This exercise is meant to get you familiar with Python. Most of the following exercises are inspired by the highly recommended lecture \"Skriptsprachen und Anwendungen (ASQ)\" (FMI-BI0058) by Emanuel Barth.\n",
    "\n",
    "In the event of a persistent problem, do not hesitate to contact the course instructors under\n",
    "- paul.kahlmeyer@uni-jena.de\n",
    "\n",
    "### Submission\n",
    "\n",
    "- Deadline of submission:\n",
    "        x.y.z\n",
    "- Submission on [moodle page](https://moodle.uni-jena.de/course/view.php?id=18310)"
   ]
  },
  {
   "cell_type": "code",
   "execution_count": 1,
   "metadata": {},
   "outputs": [],
   "source": [
    "import numpy as np\n",
    "import matplotlib.pyplot as plt\n",
    "import random"
   ]
  },
  {
   "cell_type": "markdown",
   "metadata": {},
   "source": [
    "## Variables, Types\n",
    "\n",
    "In this lab, we will mostly use two basic types of variables: **numbers** and **strings**. These variables can be grouped in [**lists**](https://www.w3schools.com/python/python_lists.asp), [**dictionaries**](https://www.w3schools.com/python/python_dictionaries.asp) or [**sets**](https://www.w3schools.com/python/python_sets.asp)."
   ]
  },
  {
   "cell_type": "markdown",
   "metadata": {},
   "source": [
    "### Task 1 (1 Point)\n",
    "\n",
    "Create several variables:\n",
    "- `x` has the value of 3\n",
    "- `y` has the value of $2^{100}$\n",
    "- `a` is a string with the text \"pretty little string\"\n",
    "- `l` is a list, that holds `x,y` and `a`\n",
    "- `d` is a dictionary with the name and phone number of three (imaginary) people\n",
    "- `s` is a set with 5 numbers"
   ]
  },
  {
   "cell_type": "code",
   "execution_count": 2,
   "metadata": {},
   "outputs": [],
   "source": [
    "# TODO: create variables\n",
    "x = 3\n",
    "y = 2**100\n",
    "a = \"pretty little string\"\n",
    "l = [x,y,a]\n",
    "d = {\n",
    "    'Person1' : 1234,\n",
    "    'Person2' : 4231,\n",
    "    'Person3' : 1324\n",
    "}\n",
    "s = set([1,2,3,4,5])\n",
    "s = {1,2,3,4,5}"
   ]
  },
  {
   "cell_type": "markdown",
   "metadata": {},
   "source": [
    "## Branches and Loops\n",
    "\n",
    "Similar to other programming languages, Python has [**for**](https://www.w3schools.com/python/python_for_loops.asp)- and [**while**](https://www.w3schools.com/python/python_while_loops.asp)- loops, as well as [**if-else**](https://www.w3schools.com/python/python_conditions.asp) conditioning.\n",
    "\n",
    "### Task 2 (1 Point)\n",
    "Use a for loop to iterate over the dictionary `d` and print the persons and their phone numbers."
   ]
  },
  {
   "cell_type": "code",
   "execution_count": 3,
   "metadata": {},
   "outputs": [
    {
     "name": "stdout",
     "output_type": "stream",
     "text": [
      "Person: Person1\tNumber: 1234\n",
      "Person: Person2\tNumber: 4231\n",
      "Person: Person3\tNumber: 1324\n"
     ]
    }
   ],
   "source": [
    "# TODO: iterate over d\n",
    "for p in d:\n",
    "    print(f'Person: {p}\\tNumber: {d[p]}')"
   ]
  },
  {
   "cell_type": "markdown",
   "metadata": {},
   "source": [
    "### Task 3 (1 Points)\n",
    "Use a for loop to iterate over the set `s` and print only the even numbers."
   ]
  },
  {
   "cell_type": "code",
   "execution_count": 4,
   "metadata": {},
   "outputs": [
    {
     "name": "stdout",
     "output_type": "stream",
     "text": [
      "2\n",
      "4\n"
     ]
    }
   ],
   "source": [
    "# TODO: iterate over s, print even numbers\n",
    "for i in s:\n",
    "    if i%2==0:\n",
    "        print(i)"
   ]
  },
  {
   "cell_type": "code",
   "execution_count": 5,
   "metadata": {},
   "outputs": [
    {
     "data": {
      "text/plain": [
       "[2, 4]"
      ]
     },
     "execution_count": 5,
     "metadata": {},
     "output_type": "execute_result"
    }
   ],
   "source": [
    "[x for x in s if x%2==0]"
   ]
  },
  {
   "cell_type": "markdown",
   "metadata": {},
   "source": [
    "### Task 4 (2 Points)\n",
    "Calculate the first 10 powers of 2: ($2^0,2^1,2^2,\\dots,2^9)$ \n",
    "and store them in a list\n",
    "- using a for loop\n",
    "- using a while loop\n",
    "\n",
    "Compare the results."
   ]
  },
  {
   "cell_type": "code",
   "execution_count": 6,
   "metadata": {},
   "outputs": [],
   "source": [
    "# TODO: print first 10 powers of 2 with for loop\n",
    "l1 = [2**i for i in range(10)]\n",
    "\n",
    "# TODO: print first 10 powers of 2 with while loop\n",
    "l2 = []\n",
    "i = 0\n",
    "while i<10:\n",
    "    l2.append(2**i)\n",
    "    i += 1\n",
    "    \n",
    "assert l1 == l2"
   ]
  },
  {
   "cell_type": "markdown",
   "metadata": {},
   "source": [
    "[Functions](https://www.w3schools.com/python/python_functions.asp) are a convenient way to encapsulate calculation steps.\n",
    "\n",
    "### Task 5 (2 Points)\n",
    "Create a function, that returns a list of the first $n$ [fibonacci numbers](https://en.wikipedia.org/wiki/Fibonacci_number)."
   ]
  },
  {
   "cell_type": "code",
   "execution_count": 7,
   "metadata": {},
   "outputs": [
    {
     "data": {
      "text/plain": [
       "[0, 1, 1, 2]"
      ]
     },
     "execution_count": 7,
     "metadata": {},
     "output_type": "execute_result"
    }
   ],
   "source": [
    "# TODO: write function, that outputs list of first n fibonacci numbers\n",
    "def fib(n):\n",
    "    if n == 1:\n",
    "        return [0]\n",
    "    elif n == 2:\n",
    "        return [0,1]\n",
    "    else: \n",
    "        i = 2\n",
    "        ret = [0,1]\n",
    "        while i < n:\n",
    "            ret.append(ret[-1]+ret[-2])\n",
    "            i += 1\n",
    "        return ret\n",
    "    \n",
    "fib(4)"
   ]
  },
  {
   "cell_type": "markdown",
   "metadata": {},
   "source": [
    "## Classes\n",
    "\n",
    "[**Classes**](https://www.w3schools.com/python/python_classes.asp) are a convenient way to group calculations and attributes into a single instance. In this lab we will use classes to represent algorithms.\n",
    "\n",
    "Below you find an example for an iterative algorithm, that calculates the [moving average](https://en.wikipedia.org/wiki/Moving_average) for a sequence of numbers."
   ]
  },
  {
   "cell_type": "code",
   "execution_count": 8,
   "metadata": {},
   "outputs": [],
   "source": [
    "class moving_average():\n",
    "    def __init__(self, k):\n",
    "        self.k = k\n",
    "        self.datapoints = None\n",
    "        self.averages = None\n",
    "        \n",
    "    def mean(self, datapoints):\n",
    "        return sum(datapoints)/len(datapoints)\n",
    "        \n",
    "    def fit(self,datapoints):\n",
    "        self.datapoints = datapoints\n",
    "        self.averages = []\n",
    "        if self.k < len(self.datapoints):\n",
    "            for i in range(len(self.datapoints)-self.k+1): # here was an error\n",
    "                avg = self.mean(self.datapoints[i:i+self.k])\n",
    "                self.averages.append(avg)"
   ]
  },
  {
   "cell_type": "markdown",
   "metadata": {},
   "source": [
    "### Task 6 (1 Point)\n",
    "\n",
    "Create a toy dataset and use the `moving_average` class to calculate the moving average."
   ]
  },
  {
   "cell_type": "code",
   "execution_count": 9,
   "metadata": {},
   "outputs": [
    {
     "data": {
      "text/plain": [
       "[<matplotlib.lines.Line2D at 0x1c2b6f22610>]"
      ]
     },
     "execution_count": 9,
     "metadata": {},
     "output_type": "execute_result"
    },
    {
     "data": {
      "image/png": "[encoded data removed]",
      "text/plain": [
       "<Figure size 432x288 with 1 Axes>"
      ]
     },
     "metadata": {
      "needs_background": "light"
     },
     "output_type": "display_data"
    }
   ],
   "source": [
    "# TODO: create own dataset and use moving average\n",
    "n = 50\n",
    "k = 10\n",
    "\n",
    "datapoints = np.arange(1,n+1,1)**2 + np.random.random(n)*1000-500\n",
    "x_values = np.arange(0,n,1)\n",
    "\n",
    "\n",
    "alg = moving_average(k)\n",
    "alg.fit(datapoints)\n",
    "\n",
    "\n",
    "plt.plot(x_values, datapoints)\n",
    "plt.plot(x_values[k-1:],alg.averages)"
   ]
  },
  {
   "cell_type": "markdown",
   "metadata": {},
   "source": [
    "### Task 7 (2 Points)\n",
    "\n",
    "Create your own class that implements the (not efficient) approximation of pi from a [circle with known radius and area](https://academo.org/demos/estimating-pi-monte-carlo/). \n",
    "\n",
    "Use the [`random`](https://docs.python.org/3/library/random.html) package for the generation of random numbers. "
   ]
  },
  {
   "cell_type": "code",
   "execution_count": 10,
   "metadata": {},
   "outputs": [
    {
     "data": {
      "text/plain": [
       "3.14036"
      ]
     },
     "execution_count": 10,
     "metadata": {},
     "output_type": "execute_result"
    }
   ],
   "source": [
    "# TODO: Implement pi approximation within class\n",
    "import math\n",
    "class pi_approximation():\n",
    "    \n",
    "    def __init__(self):\n",
    "        self.pi = None\n",
    "        self.count = 0\n",
    "        \n",
    "        \n",
    "    def fit(self, n_iterations=1000):\n",
    "        for _ in range(n_iterations):\n",
    "            x = random.random()*2-1\n",
    "            y = random.random()*2-1\n",
    "            if 1 > x**2+y**2:\n",
    "                self.count += 1\n",
    "        self.pi = 4*self.count/n_iterations\n",
    "        \n",
    "alg = pi_approximation()\n",
    "alg.fit(1000000)\n",
    "alg.pi"
   ]
  },
  {
   "cell_type": "code",
   "execution_count": 11,
   "metadata": {},
   "outputs": [],
   "source": [
    "# Area of unit circle: pi*r^2 = pi\n",
    "# Area of square around unit circle = 2^2 = 4\n",
    "# Probability that point sampled from square is in circle = Area_circle / Area_square = pi/4\n",
    "# Approximate probability trough random experiment\n",
    "\n",
    "# Point in circle, if norm <=1 (number is <=1 <-> root is <=1)"
   ]
  },
  {
   "cell_type": "markdown",
   "metadata": {},
   "source": [
    "## Numpy and Matplotlib\n",
    "\n",
    "In the context of scientific computing, [NumPy](https://numpy.org/) is probably the most important package in Python. \n",
    "\n",
    "### Task 8 (1 Point)\n",
    "Install and import numpy. Create a numpy array with 10 numbers. Multiply this array by 10 and calculate the mean of the array."
   ]
  },
  {
   "cell_type": "code",
   "execution_count": 12,
   "metadata": {},
   "outputs": [
    {
     "data": {
      "text/plain": [
       "6.212096176970164"
      ]
     },
     "execution_count": 12,
     "metadata": {},
     "output_type": "execute_result"
    }
   ],
   "source": [
    "# TODO: create numpy array, multiply by 10 and calculate mean\n",
    "a = np.random.rand(10)\n",
    "np.mean(a*10)"
   ]
  },
  {
   "cell_type": "markdown",
   "metadata": {},
   "source": [
    "[Matplotlib](https://matplotlib.org/) is a package for plotting and visualization in Python.\n",
    "\n",
    "### Task 9 (2 Points)\n",
    "\n",
    "Use numpy to calculate the function \n",
    "\\begin{equation}\n",
    "f(x) = x^2-10\\sin(2x)\n",
    "\\end{equation}\n",
    "for $x=1,\\dots,50$. \n",
    "\n",
    "Use matplotlib to draw the function."
   ]
  },
  {
   "cell_type": "code",
   "execution_count": 13,
   "metadata": {},
   "outputs": [
    {
     "data": {
      "text/plain": [
       "[<matplotlib.lines.Line2D at 0x1c2b7258520>]"
      ]
     },
     "execution_count": 13,
     "metadata": {},
     "output_type": "execute_result"
    },
    {
     "data": {
      "image/png": "[encoded data removed]",
      "text/plain": [
       "<Figure size 432x288 with 1 Axes>"
      ]
     },
     "metadata": {
      "needs_background": "light"
     },
     "output_type": "display_data"
    }
   ],
   "source": [
    "# TODO: calculate and plot the function values\n",
    "def f(x):\n",
    "    return x**2-10*np.sin(2*x)\n",
    "\n",
    "x_values = np.arange(1,51,1)\n",
    "y_values = f(x_values)\n",
    "\n",
    "plt.plot(x_values, y_values)"
   ]
  },
  {
   "cell_type": "markdown",
   "metadata": {},
   "source": [
    "## Tower of Hanoi\n",
    "\n",
    "The [Tower of Hanoi](https://en.wikipedia.org/wiki/Tower_of_Hanoi) is a mathematical puzzle, that consists of three rods and a tower of disks. The goal is to transport the tower of disks from the first rod to the third rod while following the rules:\n",
    "- only one disk can be moved at a time\n",
    "- each move consists of taking the upper disk from one of the stacks and placing it on top of another stack or on an empty rod\n",
    "- no larger disk may be placed on top of a smaller disk\n",
    "\n",
    "### Task 10 (2 Points)\n",
    "\n",
    "Create a function, that outputs the series of moves for a Tower of Hanoi with size $n$. \n",
    "As an example, the output for a tower of height 3 that is moved from rod 1 to rod 3 should be:\n",
    "\n",
    "- Moving from 1 to 3.\n",
    "- Moving from 1 to 2.\n",
    "- Moving from 3 to 2.\n",
    "- Moving from 1 to 3.\n",
    "- Moving from 2 to 1.\n",
    "- Moving from 2 to 3.\n",
    "- Moving from 1 to 3.\n"
   ]
  },
  {
   "cell_type": "code",
   "execution_count": 14,
   "metadata": {},
   "outputs": [
    {
     "name": "stdout",
     "output_type": "stream",
     "text": [
      "Moving from 1 to 3.\n",
      "Moving from 1 to 2.\n",
      "Moving from 3 to 2.\n",
      "Moving from 1 to 3.\n",
      "Moving from 2 to 1.\n",
      "Moving from 2 to 3.\n",
      "Moving from 1 to 3.\n"
     ]
    }
   ],
   "source": [
    "# TODO: create and test function for towers of hanoi\n",
    "def move_tower(height, source, dest):\n",
    "    moves=[1,2,3]\n",
    "    if height==1:\n",
    "        print(f'Moving from {source} to {dest}.')\n",
    "    elif height>0:\n",
    "        free_rod = 6-source-dest # very elegant\n",
    "        move_tower(height-1,source,free_rod)\n",
    "        move_tower(1,source,dest)\n",
    "        move_tower(height-1,free_rod,dest)\n",
    "        \n",
    "move_tower(3,1,3)"
   ]
  }
 ],
 "metadata": {
  "kernelspec": {
   "display_name": "Python 3",
   "language": "python",
   "name": "python3"
  },
  "language_info": {
   "codemirror_mode": {
    "name": "ipython",
    "version": 3
   },
   "file_extension": ".py",
   "mimetype": "text/x-python",
   "name": "python",
   "nbconvert_exporter": "python",
   "pygments_lexer": "ipython3",
   "version": "3.8.10"
  }
 },
 "nbformat": 4,
 "nbformat_minor": 4
}
