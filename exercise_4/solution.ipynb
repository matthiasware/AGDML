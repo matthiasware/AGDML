{
 "cells": [
  {
   "cell_type": "markdown",
   "metadata": {},
   "source": [
    "# Exercise 4 - Spelling Correction with Naive Bayes (30 Points)\n",
    "\n",
    "In this exercise you will learn about a fun application of the *Naive Bayes* classifier: Spelling correction. For the\n",
    "informal and vivid character of natural language, the correction of syntactic and semantic errors in written language is an extremely hard task. Here you will challenge this problem by applying one of the simplest classification\n",
    "algorithms, namely Naive Bayes and see how it performs.\n",
    "\n",
    "In the event of a persistent problem, do not hesitate to contact the course instructors under\n",
    "- christoph.staudt@uni-jena.de\n",
    "\n",
    "### Submission\n",
    "\n",
    "- Deadline of submission:\n",
    "        19.05.2021 23:59\n",
    "- Submission on [moodle page](https://moodle.uni-jena.de/course/view.php?id=28746)"
   ]
  },
  {
   "cell_type": "markdown",
   "metadata": {},
   "source": [
    "## Intro\n",
    "\n",
    "This exercise is based on section 5.1 in *Speech and Language Processing* by Daniel Jurafsky & James H. We will implement its \"Noisy Channel Model\" and required functions stept by step, but if you are interested in reading about it in one go or with more explanations you can do so in the file `chapter5.pdf`.\n",
    "\n",
    "\n",
    "## Problem statement\n",
    "We frame spelling correction as a classification problem and use Bayesian inference to obtain results. Although the\n",
    "basic problem statement is straightforward, there is plenty of room to improve the used models, initially\n",
    "published by Peter Norvig.\n",
    "\n",
    "Given an observation $x$ and a corpus of words $W$. For spelling correction, we want to find the most likely correction $w\\in W$ for $x$.\n",
    "In other words, we are looking for \n",
    "\n",
    "\\begin{align*}\n",
    "\\text{argmax}_{w\\in W}p(w|x)&=\\text{argmax}_{w\\in W}\\cfrac{p(x|w)p(w)}{p(x)}\\\\\n",
    "&=\\text{argmax}_{w\\in W}p(x|w)p(w)\n",
    "\\end{align*}\n",
    "\n",
    "In practice, we do not want to maximize over the complete corpus of words, but rather only over a set of candidate words $C_x\\subset W$ that depends on the observed pattern $x$.\n",
    "\n",
    "\\begin{align*}\n",
    "\\text{argmax}_{w\\in C_x}p(x|w)p(w)\n",
    "\\end{align*}"
   ]
  },
  {
   "cell_type": "markdown",
   "metadata": {},
   "source": [
    "## Language Model\n",
    "The probability $p(w)$ is also called prior or **language model**, since it represents our model of how words are distributed before we take $x$ into consideration.\n",
    "There are multiple classes of language models. \n",
    "The simplest class of model is the unigram model, where the probability of each word is fixed and can be obtained by using the frequency of its occurrence in a given corpus.\n",
    "Within the directory `books` you will find several `.txt` files that contain (parts) of books from the [Project Gutenberg](www.gutenberg.org). This source shall provide the basis for obtaining the corpus $W$ and for training a language model.\n",
    "\n",
    "\n",
    "### Task 1 (2 Points)\n",
    "Load the book texts from the `.txt` files, filter the alphabetic\n",
    "expressions and calculate the frequencies of occurrences of the existing words.\n",
    "What are the top 10 most occuring words, how often to they occur? \n",
    "\n",
    "Make sure to store $W$ in a data structure, where you can quickly check if $w\\in W$ for a word $w$ (see [here](https://wiki.python.org/moin/TimeComplexity)).\n",
    "\n",
    "Hints:\n",
    "- the files are encoded in utf-8\n",
    "- use [regex](https://docs.python.org/3/library/re.html) to filter for words\n",
    "- lower case the words\n",
    "- You may want to use one of the more [specialized datatypes](https://realpython.com/python-collections-module/)\n"
   ]
  },
  {
   "cell_type": "code",
   "execution_count": 2,
   "metadata": {},
   "outputs": [],
   "source": [
    "import numpy as np\n",
    "import re\n",
    "import collections\n",
    "import os\n",
    "import string\n",
    "import matplotlib.pyplot as plt\n",
    "import pickle"
   ]
  },
  {
   "cell_type": "code",
   "execution_count": 23,
   "metadata": {},
   "outputs": [
    {
     "name": "stdout",
     "output_type": "stream",
     "text": [
      "[('the', 55160), ('and', 32870), ('of', 28632), ('to', 27333), ('i', 21438), ('a', 21437), ('in', 17390), ('that', 14731), ('it', 13854), ('he', 12482)]\n"
     ]
    }
   ],
   "source": [
    "# TODO: load books\n",
    "p = 'books'\n",
    "words = []\n",
    "for f in os.listdir(p):\n",
    "    content =  open(os.path.join(p,f), encoding='utf8').read()\n",
    "    words += re.findall(r'\\w+', content.lower())\n",
    "\n",
    "# TODO: count words\n",
    "n_words = len(words)\n",
    "words = collections.Counter(words)\n",
    "words.most_common(10)\n",
    "top10_words = words.most_common(10)\n",
    "print(top10_words)\n",
    "\n",
    "assert top10_words == [('the', 55160),\n",
    " ('and', 32870),\n",
    " ('of', 28632),\n",
    " ('to', 27333),\n",
    " ('i', 21438),\n",
    " ('a', 21437),\n",
    " ('in', 17390),\n",
    " ('that', 14731),\n",
    " ('it', 13854),\n",
    " ('he', 12482)] \n",
    "\n"
   ]
  },
  {
   "cell_type": "code",
   "execution_count": 3,
   "metadata": {},
   "outputs": [
    {
     "data": {
      "text/plain": [
       "15116"
      ]
     },
     "execution_count": 3,
     "metadata": {},
     "output_type": "execute_result"
    }
   ],
   "source": [
    "len(words)"
   ]
  },
  {
   "cell_type": "markdown",
   "metadata": {},
   "source": [
    "### Task 2 (1 Point)\n",
    "Use the loaded corpus to implement a function that resembles our language model.\n",
    "Use relative frequencies as estimates for $p(w)$."
   ]
  },
  {
   "cell_type": "code",
   "execution_count": 63,
   "metadata": {},
   "outputs": [
    {
     "data": {
      "text/plain": [
       "0.05136865749199591"
      ]
     },
     "execution_count": 63,
     "metadata": {},
     "output_type": "execute_result"
    }
   ],
   "source": [
    "def language_model(w):\n",
    "    # TODO: implement language model\n",
    "    if w in words:\n",
    "        return words[w] / n_words\n",
    "    else:\n",
    "        return 0\n",
    "\n",
    "\n",
    "def language_model_smoothed(w):\n",
    "    # TODO: implement language model\n",
    "    if w in words:\n",
    "        return (words[w]+1) / (n_words+1)\n",
    "    else:\n",
    "        return 0\n",
    "\n",
    "\n",
    "assert language_model('the') == 0.052811928832191914\n",
    "language_model('the')"
   ]
  },
  {
   "cell_type": "markdown",
   "metadata": {},
   "source": [
    "## Candidate Words\n",
    "Real-world-spelling-errors take multiple shapes. There are typographical errors like insertions, deletions and trans-\n",
    "positions of letters, and there are cognitive errors where the writer substitutes a wrong spelling of a homophone or\n",
    "near-homophone (e.g., dessert for desert, or piece for peace). The detection of the latter require context information\n",
    "and therefore are hard to detect. Thus we focus on the former, which are errors that were produced by the following\n",
    "operations:\n",
    "- transposition (e.g. \"catress\" for \"actress\" : \"ac\" $\\rightarrow$ \"ca\")\n",
    "- deletion (\"acress\" for \"actress\": missing \"t\")\n",
    "- substitutions (\"acress\" for \"access\": substituted \"r\" for \"c\")\n",
    "- insertions (\"actresss\" for \"actress\": added \"s\")\n",
    "\n",
    "Given an observation $x$, we create a set of possible candidates $C_x$ by applying all the possible edit operators on $x$. By concatenating operations, you can transform each word into any other arbitrary word. Yet, to keep things simply\n",
    "we only consider candidates with *at most one* edit distance away from $x$. \n",
    "\n",
    "For instance, the correction candidates for the word \"nie\", could be:\n",
    "\n",
    "\\begin{equation*}\n",
    "C_{\\text{nie}} = \\{\\text{die}, \\text{lie}, \\text{pie}, \\text{tie}, \\text{nice}, \\text{nine}, \\text{in}\\}\n",
    "\\end{equation*}\n",
    "\n",
    "### Task 3 (5 Points)\n",
    "Implement a function that creates a set of all possible correction candidates for a given observation $x$,\n",
    "that are at most one edit distance away from $x$. You do not need to concatenate operations! The function should only return a candidate $c$ if it occurs in the corpus, i.e. $ c \\in W$.\n"
   ]
  },
  {
   "cell_type": "code",
   "execution_count": 65,
   "metadata": {},
   "outputs": [],
   "source": [
    "def transposes(x):\n",
    "    # TODO: possible transpositions\n",
    "    return [x[:i] + x[i+1]+ x[i]+ x[i+2:] for i in range(len(x)-1)] \n",
    "\n",
    "def deletes(x):\n",
    "    # TODO: possible deletes\n",
    "    return [x[:i] + x[i+1:] for i in range(len(x))]\n",
    "\n",
    "def substitutions(x):\n",
    "    # TODO: possible substitutions\n",
    "    alpha = string.ascii_lowercase\n",
    "    return [x[:i] + c + x[i+1:] for i in range(len(x)) for c in alpha]\n",
    "    \n",
    "def insertions(x):\n",
    "    # TODO: possible insertions\n",
    "    alpha = string.ascii_lowercase\n",
    "    return [x[:i] + c + x[i:] for i in range(len(x)+1) for c in alpha]\n",
    "\n",
    "def candidates(x):\n",
    "    # TODO: possible candidates\n",
    "    cands = transposes(x) + deletes(x) + substitutions(x) + insertions(x)\n",
    "    cands.append(x)\n",
    "    cands = list(set(cands))\n",
    "    return [w for w in cands if w in words]\n",
    "\n",
    "assert transposes('frod') == ['rfod', 'ford', 'frdo']\n",
    "assert deletes('frod') == ['rod', 'fod', 'frd', 'fro']\n",
    "assert substitutions('frod') == ['arod', 'brod', 'crod', 'drod', 'erod', 'frod', 'grod', 'hrod', 'irod', 'jrod', 'krod', 'lrod', 'mrod', 'nrod', 'orod', 'prod', 'qrod', 'rrod', 'srod', 'trod', 'urod', 'vrod', 'wrod', 'xrod', 'yrod', 'zrod', 'faod', 'fbod', 'fcod', 'fdod', 'feod', 'ffod', 'fgod', 'fhod', 'fiod', 'fjod', 'fkod', 'flod', 'fmod', 'fnod', 'food', 'fpod', 'fqod', 'frod', 'fsod', 'ftod', 'fuod', 'fvod', 'fwod', 'fxod', 'fyod', 'fzod', 'frad', 'frbd', 'frcd', 'frdd', 'fred', 'frfd', 'frgd', 'frhd', 'frid', 'frjd', 'frkd', 'frld', 'frmd', 'frnd', 'frod', 'frpd', 'frqd', 'frrd', 'frsd', 'frtd', 'frud', 'frvd', 'frwd', 'frxd', 'fryd', 'frzd', 'froa', 'frob', 'froc', 'frod', 'froe', 'frof', 'frog', 'froh', 'froi', 'froj', 'frok', 'frol', 'from', 'fron', 'froo', 'frop', 'froq', 'fror', 'fros', 'frot', 'frou', 'frov', 'frow', 'frox', 'froy', 'froz']\n",
    "assert insertions('frod') == ['afrod', 'bfrod', 'cfrod', 'dfrod', 'efrod', 'ffrod', 'gfrod', 'hfrod', 'ifrod', 'jfrod', 'kfrod', 'lfrod', 'mfrod', 'nfrod', 'ofrod', 'pfrod', 'qfrod', 'rfrod', 'sfrod', 'tfrod', 'ufrod', 'vfrod', 'wfrod', 'xfrod', 'yfrod', 'zfrod', 'farod', 'fbrod', 'fcrod', 'fdrod', 'ferod', 'ffrod', 'fgrod', 'fhrod', 'firod', 'fjrod', 'fkrod', 'flrod', 'fmrod', 'fnrod', 'forod', 'fprod', 'fqrod', 'frrod', 'fsrod', 'ftrod', 'furod', 'fvrod', 'fwrod', 'fxrod', 'fyrod', 'fzrod', 'fraod', 'frbod', 'frcod', 'frdod', 'freod', 'frfod', 'frgod', 'frhod', 'friod', 'frjod', 'frkod', 'frlod', 'frmod', 'frnod', 'frood', 'frpod', 'frqod', 'frrod', 'frsod', 'frtod', 'fruod', 'frvod', 'frwod', 'frxod', 'fryod', 'frzod', 'froad', 'frobd', 'frocd', 'frodd', 'froed', 'frofd', 'frogd', 'frohd', 'froid', 'frojd', 'frokd', 'frold', 'fromd', 'frond', 'frood', 'fropd', 'froqd', 'frord', 'frosd', 'frotd', 'froud', 'frovd', 'frowd', 'froxd', 'froyd', 'frozd', 'froda', 'frodb', 'frodc', 'frodd', 'frode', 'frodf', 'frodg', 'frodh', 'frodi', 'frodj', 'frodk', 'frodl', 'frodm', 'frodn', 'frodo', 'frodp', 'frodq', 'frodr', 'frods', 'frodt', 'frodu', 'frodv', 'frodw', 'frodx', 'frody', 'frodz']\n",
    "assert candidates(\"frod\") == ['food', 'frog', 'trod', 'fro', 'ford', 'from', 'rod']\n",
    "assert candidates(\"that\") == ['chat', 'that', 'tat', 'hat', 'than', 'what']"
   ]
  },
  {
   "cell_type": "markdown",
   "metadata": {},
   "source": [
    "## Error Model\n",
    "Recall the problem statement:\n",
    "The probability $p(x|w)$ for $w\\in C\\subset W$ is also called **error model**, since it represents how likely $w$ was mispelled as the observed pattern $x$.\n",
    "\n",
    "A very simple error model can be achieved by setting\n",
    "\n",
    "\\begin{equation*}\n",
    "p(x|w) := p(w),\n",
    "\\end{equation*}\n",
    "\n",
    "which reduces our initial problem to: \n",
    "\n",
    "\\begin{align*}\n",
    "\\text{argmax}_{w\\in C}p(w)p(w) = \\text{argmax}_{w\\in C}p(w).\n",
    "\\end{align*}\n",
    "\n",
    "### Task 4 (2 Points)\n",
    "Implement a function `correction`, that returns $\\text{argmax}_{w\\in W}p(w|x)$ for a given input $x$, based on the above definition.\n",
    "\n",
    "Also think about what `correction` should return\n",
    "- if $x$ is a known word?\n",
    "- if $x$ is unknown and has no correction candidates?\n",
    "\n",
    "<details><summary>Answers</summary>\n",
    "In both cases x should be returned.\n",
    "</details>\n",
    "\n",
    "What is the correction for the word \"frod\"?"
   ]
  },
  {
   "cell_type": "code",
   "execution_count": 47,
   "metadata": {},
   "outputs": [
    {
     "data": {
      "text/plain": [
       "'from'"
      ]
     },
     "execution_count": 47,
     "metadata": {},
     "output_type": "execute_result"
    }
   ],
   "source": [
    "def correction(x): \n",
    "    # TODO: return correction candidate\n",
    "    if x in words:\n",
    "        return x\n",
    "    else:\n",
    "        can = candidates(x)\n",
    "        if len(can)>0:\n",
    "            probs = [language_model(c) for c in can]\n",
    "            return can[np.argmax(probs)]\n",
    "        else:\n",
    "            return x\n",
    "\n",
    "assert correction('sucess') == 'success'\n",
    "correction('frod')"
   ]
  },
  {
   "cell_type": "markdown",
   "metadata": {},
   "source": [
    "### Task 5 (2 Points)\n",
    "The file `dataset.p` contains a list of spelling data from several [corpora of misspellings](https://www.dcs.bbk.ac.uk/~ROGER/corpora.html), where each item contains a tuple of the form:\n",
    "\n",
    "\\begin{equation}\n",
    "\\text{misspelled word, correct word}\n",
    "\\end{equation}\n",
    "\n",
    "The dataset has been preprocessed, so each misspelling is one edit distance away from the correct word.\n",
    "Load the dataset and split it into a training (80%) and test set (20%). Since you just need to do a single split you can use [np.random.shuffle(dataset)](https://numpy.org/doc/stable/reference/random/generated/numpy.random.shuffle.html).\n",
    "\n",
    "The file was created using [pickle](https://wiki.python.org/moin/UsingPickle)."
   ]
  },
  {
   "cell_type": "code",
   "execution_count": 130,
   "metadata": {},
   "outputs": [
    {
     "name": "stdout",
     "output_type": "stream",
     "text": [
      "priveliged\n"
     ]
    }
   ],
   "source": [
    "# TODO: Load dataset (1 Point)\n",
    "dataset = pickle.load(open('dataset.p', 'rb') )\n",
    "dataset = np.array(dataset)\n",
    "\n",
    "dataset = np.load('dataset.p', allow_pickle=True)\n",
    "dataset = np.array(dataset)\n",
    "\n",
    "assert isinstance(dataset, np.ndarray)\n",
    "# TODO: Split into train- and testset (1 Point)\n",
    "np.random.seed(0)\n",
    "np.random.shuffle(dataset)\n",
    "train_perc = 0.8\n",
    "train_amount = int(train_perc*len(dataset))\n",
    "trainset = dataset[:train_amount]\n",
    "testset = dataset[train_amount:]\n",
    "\n",
    "assert trainset[4,0] == 'priveliged'\n",
    "assert trainset[37,0] == 'san'\n",
    "assert testset[4,0] == 'wishas'\n",
    "assert testset[37,0] == 'yow'\n"
   ]
  },
  {
   "cell_type": "markdown",
   "metadata": {},
   "source": [
    "### Task 6 (3 Points)\n",
    "\n",
    "\n",
    "Implement a function `validate`, that takes a correction function (takes a word, outputs a suggestion) tries to correct the typos in the testset. Use only the data, where the correct word is actually in our word corpus $W$.\n",
    "\n",
    "`validate` should return a list of the cases, where the correction failed, as well as the success rate (percentage of correctly corrected typos).\n",
    "\n",
    "What is your success rate? On which words did your spelling correction fail and why?"
   ]
  },
  {
   "cell_type": "code",
   "execution_count": 133,
   "metadata": {},
   "outputs": [
    {
     "name": "stdout",
     "output_type": "stream",
     "text": [
      "Success rate: 0.7011669203450026\n",
      "Observed: ommitting\tCorrected: committing\tActual: omitting\n",
      "Observed: put\tCorrected: put\tActual: but\n",
      "Observed: remove\tCorrected: remove\tActual: removed\n",
      "Observed: hungary\tCorrected: hungary\tActual: hungry\n",
      "Observed: hide\tCorrected: hide\tActual: hid\n",
      "Observed: rick\tCorrected: dick\tActual: rich\n",
      "Observed: couse\tCorrected: house\tActual: cause\n",
      "Observed: move\tCorrected: move\tActual: moved\n",
      "Observed: thing\tCorrected: thing\tActual: think\n",
      "Observed: looses\tCorrected: loose\tActual: loses\n",
      "589\n"
     ]
    }
   ],
   "source": [
    "def validate(correction_function):\n",
    "    # TODO: estimate success rate\n",
    "        \n",
    "    failed = []\n",
    "    count = 0\n",
    "    for wrong, right in testset:\n",
    "        if right in words:\n",
    "            count += 1\n",
    "            c = correction_function(wrong)\n",
    "            if c != right: \n",
    "                failed.append((right, c, wrong))\n",
    "    success_rate = 1 - (len(failed) / count)\n",
    "    return failed, success_rate\n",
    "\n",
    "# TODO: estimate success rate, view failed corrections\n",
    "failed, sr = validate(correction)\n",
    "assert sr ==  0.7011669203450026\n",
    "print(f'Success rate: {sr}')\n",
    "for right, c , wrong in failed[:10]:\n",
    "    print(f'Observed: {wrong}\\tCorrected: {c}\\tActual: {right}')\n",
    "    \n",
    "print(len(failed))"
   ]
  },
  {
   "cell_type": "markdown",
   "id": "fcffa905",
   "metadata": {},
   "source": [
    "As you can see if the wrong word is in our dictionary that will automatically lead to an error since we just return it again. Fixing these kind of errors requires to go beyond the unigramm model and take the surrrounding context of the word into consideration. We won't do this here so next overwrite the validate function and skip cases where the wrong word is in the dictionary. (Still Task 6)"
   ]
  },
  {
   "cell_type": "code",
   "execution_count": 135,
   "id": "4b7370bb",
   "metadata": {},
   "outputs": [
    {
     "name": "stdout",
     "output_type": "stream",
     "text": [
      "Success rate: 0.7988439306358381\n",
      "Observed: ommitting\tCorrected: committing\tActual: omitting\n",
      "Observed: rick\tCorrected: dick\tActual: rich\n",
      "Observed: couse\tCorrected: house\tActual: cause\n",
      "Observed: looses\tCorrected: loose\tActual: loses\n",
      "Observed: tham\tCorrected: that\tActual: them\n",
      "Observed: folloy\tCorrected: follow\tActual: folly\n",
      "Observed: leat\tCorrected: let\tActual: left\n",
      "Observed: borde\tCorrected: bore\tActual: bored\n",
      "Observed: bast\tCorrected: last\tActual: best\n",
      "Observed: oll\tCorrected: all\tActual: oil\n",
      "348\n"
     ]
    }
   ],
   "source": [
    "def validate(correction_function):\n",
    "    # TODO: estimate success rate\n",
    "        \n",
    "    failed = []\n",
    "    count = 0\n",
    "    for wrong, right in testset:\n",
    "        if right in words and wrong not in words:\n",
    "            count += 1\n",
    "            c = correction_function(wrong)\n",
    "            if c != right: \n",
    "                failed.append((right, c, wrong))\n",
    "    success_rate = 1 - (len(failed) / count)\n",
    "    return failed, success_rate\n",
    "\n",
    "# TODO: estimate success rate, view failed corrections\n",
    "failed, sr = validate(correction)\n",
    "assert sr ==  0.7988439306358381\n",
    "print(f'Success rate: {sr}')\n",
    "for right, c , wrong in failed[:10]:\n",
    "    print(f'Observed: {wrong}\\tCorrected: {c}\\tActual: {right}')\n",
    "    \n",
    "print(len(failed))"
   ]
  },
  {
   "cell_type": "markdown",
   "metadata": {},
   "source": [
    "### Transformations and confusion\n",
    "\n",
    "By analyzing the output of your spelling corrector, you find examples where the corrected word is indeed a real\n",
    "word, but not the expected one, for example:\n",
    "\n",
    "\\begin{equation*}\n",
    "x=\\text{\"tham\"}, w=\\text{\"them\"}, \\text{correction}=\\text{\"that\"}\n",
    "\\end{equation*}\n",
    "\n",
    "This phenomena occurs due to the simplistic nature of our error model. Currently \"that\" is suggested as correction, because the word \"that\" is more likely than the word \"them\", but this does not account for the fact that substituting an \"a\" with an \"e\" is more likely than substituting an \"m\" with a \"t\".\n",
    "\n",
    "Instead of treating each error equally, we now consider the probability of the edit required to get from $w$ to $x$. We will need four confusion matrices:\n",
    "- $\\operatorname{del}[a,b]$: count($ab$ typed as $a$), i.e. $w$ contains the character sequence $ab$, but $b$ was deleted in $x$.\n",
    "- $\\operatorname{ins}[a,b]$: count($a$ typed as $ab$), i.e. $w$ contains the character $a$ and $b$ was inserted after $a$ in $x$.\n",
    "- $\\operatorname{sub}[a,b]$: count($a$ typed as $b$), i.e. $w$ contains the character $a$, but in $x$ there is a $b$ instead of an $a$.\n",
    "- $\\operatorname{trans}[a,b]$: count($ab$ typed as $ba$), i.e. $w$ contains the character sequence $ab$, but in $x$ it was swapped to $ba$.\n",
    "\n",
    "\n",
    "In order to construct these matrices, we need a way to find out, which transformation took place."
   ]
  },
  {
   "cell_type": "markdown",
   "metadata": {},
   "source": [
    "### Task 7 (5 Points)\n",
    "\n",
    "Implement the function `get_transformation`, which takes the correct word and the misspelled word as input. The function should output three things:\n",
    "- ID of transformation (del, ins, sub or trans)\n",
    "- a of transformation \n",
    "- b of transformation\n",
    "\n",
    "where a and b are defined for each transformation as mentioned above. You may also look at the asssertions below to get an understanding of their definitions. Insertions or deletions at the start of the word will need an a that is not in the word. We will use the character \"#\" for this. Remember, that every misspelling  is generated by only one transformation .\n",
    "\n",
    "<details>\n",
    "<summary>Open to get implementation hints</summary>\n",
    " Compare the characters of the words one by one to find the first place where they defer. Then use the length of the words and the next character to determine which transformation happened\n",
    "</details>"
   ]
  },
  {
   "cell_type": "code",
   "execution_count": 160,
   "metadata": {},
   "outputs": [],
   "source": [
    "def get_transformation(wrong, right):\n",
    "    # TODO: returns id, x, y of transformation\n",
    "    i = 0\n",
    "    while i< len(wrong) and i < len(right) and wrong[i] == right[i]:\n",
    "        i += 1\n",
    "        \n",
    "    if len(wrong) < len(right):\n",
    "        # deletion\n",
    "        if i == 0:\n",
    "            # deletion of first letter\n",
    "            return 'del', '#', right[i]\n",
    "        else:\n",
    "            return 'del', right[i-1], right[i]\n",
    "    \n",
    "    elif len(wrong)  > len(right):\n",
    "        # insertion \n",
    "        if i == 0:\n",
    "            # insertion at first letter\n",
    "            return 'ins', '#', wrong[i]\n",
    "        else:   \n",
    "            return 'ins', right[i-1], wrong[i]\n",
    "    \n",
    "    elif (i==len(wrong)-1) or wrong[i+1] == right[i+1]:\n",
    "        # substitution\n",
    "        return 'sub', right[i], wrong[i]\n",
    "    \n",
    "    elif wrong[i+1] == right[i]:\n",
    "        # transposition\n",
    "        return 'trans', right[i], wrong[i] #or right[i+1]\n",
    "    \n",
    "    else:\n",
    "        return -1"
   ]
  },
  {
   "cell_type": "code",
   "execution_count": 161,
   "metadata": {},
   "outputs": [
    {
     "name": "stdout",
     "output_type": "stream",
     "text": [
      "('sub', 'm', 'd')\n",
      "('ins', 'm', 'm')\n",
      "('del', 'r', 'o')\n",
      "('trans', 'o', 'm')\n",
      "('del', '#', 'f')\n",
      "('ins', '#', 'a')\n"
     ]
    }
   ],
   "source": [
    "# Test cases:\n",
    "print(get_transformation('frod','from'))\n",
    "print(get_transformation('fromm', 'from'))\n",
    "print(get_transformation('frm', 'from'))\n",
    "print(get_transformation('frmo', 'from'))\n",
    "print(get_transformation('rom', 'from'))\n",
    "print(get_transformation('afrom', 'from'))\n",
    "\n",
    "\n",
    "assert get_transformation('frod','from') == ('sub', 'm', 'd')\n",
    "assert get_transformation('fromm', 'from') == ('ins', 'm', 'm')\n",
    "assert get_transformation('frm', 'from') == ('del', 'r', 'o')\n",
    "assert get_transformation('frmo', 'from') == ('trans', 'o', 'm')\n",
    "assert get_transformation('rom', 'from') == ('del', '#', 'f')\n",
    "assert get_transformation('afrom', 'from') == ('ins', '#', 'a')"
   ]
  },
  {
   "cell_type": "markdown",
   "metadata": {},
   "source": [
    "### Task 8 (2 Points)\n",
    "\n",
    "Use the `get_transformation` function and the trainset to create the confusion matrices."
   ]
  },
  {
   "cell_type": "code",
   "execution_count": 162,
   "metadata": {},
   "outputs": [
    {
     "name": "stdout",
     "output_type": "stream",
     "text": [
      "defaultdict(<class 'int'>, {'sub': 2998, 'ins': 1743, 'trans': 636, 'del': 2543})\n",
      "7920\n",
      "7920\n",
      "{'sub': 0.37853535353535356, 'ins': 0.22007575757575756, 'trans': 0.0803030303030303, 'del': 0.3210858585858586}\n"
     ]
    }
   ],
   "source": [
    "# TODO: create confusion matrices\n",
    "alphabet = string.ascii_lowercase\n",
    "\n",
    "del_matrix = np.zeros((len(alphabet)+1, len(alphabet)))\n",
    "ins_matrix = np.zeros((len(alphabet)+1, len(alphabet)))\n",
    "sub_matrix = np.zeros((len(alphabet), len(alphabet)))\n",
    "trans_matrix = np.zeros((len(alphabet), len(alphabet)))\n",
    "\n",
    "transformation_type_counts = collections.defaultdict(int)\n",
    "\n",
    "for wrong, right in trainset:\n",
    "    transf, x, y = get_transformation(wrong, right)\n",
    "    idx_x = alphabet.find(x) # if #, then idx=-1\n",
    "    idx_y = alphabet.find(y)\n",
    "    transformation_type_counts[transf] +=1\n",
    "    if transf == 'del':\n",
    "        del_matrix[idx_x+1, idx_y] += 1 \n",
    "    elif transf == 'ins':\n",
    "        ins_matrix[idx_x+1, idx_y] += 1\n",
    "    elif transf == 'sub':\n",
    "        sub_matrix[idx_x, idx_y] += 1\n",
    "    elif transf == 'trans':\n",
    "        trans_matrix[idx_x, idx_y] += 1\n",
    "\n",
    "# As claimed above substitution of a and e much more likely\n",
    "assert sub_matrix[alphabet.find('a'),alphabet.find('e')] ==  204.0\n",
    "assert sub_matrix[alphabet.find('e'),alphabet.find('a')] ==  261.0\n",
    "assert sub_matrix[alphabet.find('m'),alphabet.find('t')] ==  0.0\n",
    "assert sub_matrix[alphabet.find('t'),alphabet.find('m')] ==  0.0\n",
    "\n",
    "assert del_matrix[0,0] == 4\n",
    "assert ins_matrix[1,3] == 1\n",
    "assert trans_matrix[5,4] == 2\n",
    "print(transformation_type_counts)\n",
    "print(transformation_type_counts['ins']+transformation_type_counts['sub']+transformation_type_counts['del']+transformation_type_counts['trans'])\n",
    "print(trainset.shape[0])\n",
    "transformation_probs = {key: value / trainset.shape[0] for key, value in transformation_type_counts.items()}\n",
    "print(transformation_probs)\n"
   ]
  },
  {
   "cell_type": "markdown",
   "metadata": {},
   "source": [
    "### Task 9 (1 Point)\n",
    "Visualize the confusion matrices. Are the results as you would expect?\n",
    "\n",
    "Hint: Review Solution of Exercise 1 Task 5 (Correlation matrix)"
   ]
  },
  {
   "cell_type": "code",
   "execution_count": 163,
   "metadata": {},
   "outputs": [
    {
     "data": {
      "image/png": "[encoded data removed]",
      "text/plain": [
       "<Figure size 1152x288 with 4 Axes>"
      ]
     },
     "metadata": {
      "needs_background": "light"
     },
     "output_type": "display_data"
    }
   ],
   "source": [
    "# TODO: visualize confusion matrices\n",
    "fs = 4\n",
    "fig, axs = plt.subplots(nrows = 1, ncols = 4, figsize=(4*fs,fs))\n",
    "\n",
    "axs[0].imshow(del_matrix, cmap='gray')\n",
    "axs[0].set_title('Deletion')\n",
    "axs[0].set_yticks(ticks=np.arange(0,len(string.ascii_lowercase)+1,1))\n",
    "axs[0].set_yticklabels(labels=['#']+list(string.ascii_lowercase))\n",
    "axs[0].set_xticks(ticks=np.arange(0,len(string.ascii_lowercase),1))\n",
    "axs[0].set_xticklabels(labels=list(string.ascii_lowercase))\n",
    "\n",
    "axs[1].imshow(ins_matrix, cmap='gray')\n",
    "axs[1].set_title('Insertion')\n",
    "axs[1].set_yticks(ticks=np.arange(0,len(string.ascii_lowercase)+1,1))\n",
    "axs[1].set_yticklabels(labels=['#']+list(string.ascii_lowercase))\n",
    "axs[1].set_xticks(ticks=np.arange(0,len(string.ascii_lowercase),1))\n",
    "axs[1].set_xticklabels(labels=list(string.ascii_lowercase))\n",
    "\n",
    "axs[2].imshow(sub_matrix, cmap='gray')\n",
    "axs[2].set_title('Substitution')\n",
    "axs[2].set_xticks(ticks=np.arange(0,len(string.ascii_lowercase),1))\n",
    "axs[2].set_xticklabels(labels=list(string.ascii_lowercase))\n",
    "axs[2].set_yticks(ticks=np.arange(0,len(string.ascii_lowercase),1))\n",
    "axs[2].set_yticklabels(labels=list(string.ascii_lowercase))\n",
    "\n",
    "axs[3].imshow(trans_matrix, cmap='gray')\n",
    "axs[3].set_title('Transposition')\n",
    "axs[3].set_xticks(ticks=np.arange(0,len(string.ascii_lowercase),1))\n",
    "axs[3].set_xticklabels(labels=list(string.ascii_lowercase))\n",
    "axs[3].set_yticks(ticks=np.arange(0,len(string.ascii_lowercase),1))\n",
    "axs[3].set_yticklabels(labels=list(string.ascii_lowercase))\n",
    "\n",
    "plt.tight_layout()"
   ]
  },
  {
   "cell_type": "markdown",
   "metadata": {},
   "source": [
    "### From confusion to probability\n",
    "The confusion matrices alone are not sufficient to estimate the error probability. In order do that we need a base count of how often that transformation could have happened. As this depends on the type of transformation, we will define the error probability $p(x|w)$ for each of them individually now. Instead of considering the whole words $x$ and $w$, we will simply look at the error on the character level $a$ and $b$.\n",
    "\n",
    "\n",
    "**Deletion**\n",
    "\n",
    "The candidate word $w$ contains the character sequence $ab$, but $b$ was deleted in $x$. To estimate how likely deleting $b$ from $ab$ is, we relate it to all occurences of $ab$. Thus, the error probability $$p_{\\operatorname{del}}(x|w) = \\operatorname{del}[a,b] / \\operatorname{count}[ab].$$\n",
    "\n",
    "As an example consider acress and actress: $$p_{\\operatorname{del}}(x=\"\\text{acress}\" | w = \"\\text{actress}\") = \\operatorname{del}[c,t] /  \\operatorname{count}[ct].$$\n",
    "\n",
    "\n",
    "**Insertion**\n",
    "\n",
    "The candidate word $w$ contains the character $a$ and $b$ was inserted after $a$ in $x$. This transformation can only happen if an $a$ was in the word, so we relate it to all occurences of $a$ as the base count and \n",
    "\n",
    "$$p_{\\operatorname{ins}}(x|w) = \\operatorname{ins}[a,b] / \\operatorname{count}[a].$$\n",
    "\n",
    "where $\\operatorname{count}[\\#]$ equals the number of words in the training set. As an example consider sactress and actress: $$p_{\\operatorname{ins}}(x=\"\\text{sactress}\" | w = \"\\text{actress}\") = \\operatorname{ins}[\\#,s] /  \\operatorname{count}[\\#].$$\n",
    "\n",
    "**Substitution**\n",
    "\n",
    "The candidate word $w$ contains the character $a$, but in $x$ there is a $b$ instead of an $a$. Again we only need to count all occurences $a$ to get the base count and \n",
    "\n",
    "$$p_{\\operatorname{sub}}(x|w) = \\operatorname{sub}[a,b] / \\operatorname{count}[a].$$\n",
    "\n",
    "As an example consider adtress and actress: $$p_{\\operatorname{sub}}(x=\"\\text{adtress}\" | w = \"\\text{actress}\") = \\operatorname{sub}[c,d] /  \\operatorname{count}[c].$$\n",
    "\n",
    "\n",
    "**Transposition**\n",
    "\n",
    "The candidate word $w$ contains the character sequence $ab$, but in $x$ it was swapped to $ba$. To estimate how likely swapping $ab$ is, we relate it to all occurences of $ab$. Thus, the error probability $$p_{\\operatorname{trans}}(x|w) = \\operatorname{trans}[a,b] / \\operatorname{count}[ab].$$\n",
    "\n",
    "As an example consider catress and actress: $$p_{\\operatorname{trans}}(x=\"\\text{catress}\" | w = \"\\text{actress}\") = \\operatorname{sub}[a,c] /  \\operatorname{count}[ac].$$\n",
    "\n",
    "To estimate these probabilities we will need to count the character occurences.\n",
    "\n",
    "### Task 10 (2 Points)\n",
    "\n",
    "Count the single and pairwaise character occurences in `trainset`."
   ]
  },
  {
   "cell_type": "code",
   "execution_count": 183,
   "id": "6388933c",
   "metadata": {},
   "outputs": [
    {
     "name": "stderr",
     "output_type": "stream",
     "text": [
      "100%|██████████| 26/26 [00:08<00:00,  3.30it/s]\n"
     ]
    }
   ],
   "source": [
    "from tqdm import tqdm\n",
    "\n",
    "char_counts = np.zeros(27)\n",
    "char_pair_counts = np.zeros((27, 26))\n",
    "\n",
    "# TODO: Calculate counts\n",
    "alphabet = string.ascii_lowercase\n",
    "\n",
    "char_counts[0] = trainset.shape[0]\n",
    "for j in tqdm(range(len(alphabet))):\n",
    "    y = alphabet[j]    \n",
    "    char_counts[j+1] = sum([right.count(y) for _, right in trainset])\n",
    "    for i,x in enumerate('#'+alphabet):\n",
    "        if x == '#':\n",
    "            char_pair_counts[i,j] = sum([right.startswith(y) for _, right in trainset])\n",
    "        else:\n",
    "            char_pair_counts[i,j] = sum([right.count(x+y) for _, right in trainset])\n",
    "\n",
    "assert char_counts[0] == 7920\n",
    "assert char_counts[2] == 800\n",
    "assert char_pair_counts[0,1] == 401\n",
    "assert char_pair_counts[1,3] == 131\n",
    "\n"
   ]
  },
  {
   "cell_type": "markdown",
   "id": "95f808d4",
   "metadata": {},
   "source": [
    "### Task 11 (3 Points)\n",
    "\n",
    "`char_pair_counts` contains several zeros since not all character pairs occur in the training set. To avoid divisions by zero we will use [Laplace smoothing](https://en.wikipedia.org/wiki/Additive_smoothing). This will also avoid zeros in the nominator, so we will use it for all transformations:\n",
    "\n",
    "$$p_{\\operatorname{del}}(x|w) = (\\operatorname{del}[a,b] + \\alpha) / (\\operatorname{count}[ab]+\\alpha).$$\n",
    "$$p_{\\operatorname{ins}}(x|w) = (\\operatorname{ins}[a,b] + \\alpha) / (\\operatorname{count}[a] + \\alpha)$$\n",
    "$$p_{\\operatorname{sub}}(x|w) = (\\operatorname{sub}[a,b] + \\alpha) / (\\operatorname{count}[a] + \\alpha)$$\n",
    "$$p_{\\operatorname{trans}}(x|w) = (\\operatorname{trans}[a,b] + \\alpha) / (\\operatorname{count}[ab] + \\alpha)$$\n",
    "Implement the noisy channel `error_model(x,w,alpha)` function, that calculates $p(x|w)$ by identifying the transformation and calculating the matching smoothed probability as defined above. \n"
   ]
  },
  {
   "cell_type": "code",
   "execution_count": 205,
   "id": "536d33b8",
   "metadata": {},
   "outputs": [
    {
     "name": "stdout",
     "output_type": "stream",
     "text": [
      "0.03599395521362825\n",
      "0.0002486325211337643\n"
     ]
    }
   ],
   "source": [
    "def error_model(x,w,alpha):\n",
    "    # TODO: Calculate p(x|candidate)\n",
    "    ident, x, y = get_transformation(x, w)\n",
    "    idx_x = string.ascii_lowercase.find(x) # -1 if #\n",
    "    idx_y = string.ascii_lowercase.find(y)\n",
    "    \n",
    "    nominator = alpha\n",
    "    denominator = alpha\n",
    "    if ident == 'del':\n",
    "        denominator += char_pair_counts[idx_x+1, idx_y]\n",
    "        nominator += del_matrix[idx_x+1, idx_y]\n",
    "    elif ident == 'ins':\n",
    "        denominator += char_counts[idx_x+1]\n",
    "        nominator += ins_matrix[idx_x+1, idx_y]\n",
    "    elif ident == 'sub':\n",
    "        denominator += char_counts[idx_x+1]\n",
    "        nominator += sub_matrix[idx_x, idx_y]\n",
    "    elif ident == 'trans':\n",
    "        denominator += char_pair_counts[idx_x+1, idx_y]\n",
    "        nominator += trans_matrix[idx_x, idx_y]\n",
    "    return nominator / denominator\n",
    "\n",
    "\n",
    "assert error_model('tham', 'them', 1) == 0.03599395521362825\n",
    "assert error_model('tham', 'that', 1) == 0.0002486325211337643"
   ]
  },
  {
   "cell_type": "markdown",
   "id": "08879bc8",
   "metadata": {},
   "source": [
    "### Task 12 (2 Points)\n",
    "Based on this error model implement the `correction_noisy_channel` function that outputs the best correction candidate:\n",
    "\n",
    "\\begin{align*}\n",
    "\\text{argmax}_{w\\in C_x}p(x|w)p(w).\n",
    "\\end{align*}\n",
    "\n",
    "Use $\\alpha = 0.01$ as smoothing parameter. You can also play around with this to see how it incluences the result. \n",
    "\n",
    "Similar to task 5, calculate the sucess rate of the new correction function using the `validate` function from above."
   ]
  },
  {
   "cell_type": "code",
   "execution_count": 207,
   "id": "e0bd407d",
   "metadata": {},
   "outputs": [
    {
     "name": "stdout",
     "output_type": "stream",
     "text": [
      "0.8757225433526011\n",
      "Observed: rick\tCorrected: ricks\tActual: rich\n",
      "Observed: couse\tCorrected: course\tActual: cause\n",
      "Observed: looses\tCorrected: loose\tActual: loses\n",
      "Observed: folloy\tCorrected: follow\tActual: folly\n",
      "Observed: forme\tCorrected: former\tActual: form\n",
      "Observed: contentded\tCorrected: contended\tActual: contented\n",
      "Observed: leat\tCorrected: least\tActual: left\n",
      "Observed: borde\tCorrected: border\tActual: bored\n",
      "Observed: oll\tCorrected: all\tActual: oil\n",
      "Observed: dept\tCorrected: kept\tActual: debt\n",
      "Number of failed words: 215\n"
     ]
    },
    {
     "data": {
      "text/plain": [
       "'them'"
      ]
     },
     "execution_count": 207,
     "metadata": {},
     "output_type": "execute_result"
    }
   ],
   "source": [
    "def correction_noisy_channel(x): \n",
    "    # TODO: return best correction candidate based on noisy channel model \n",
    "    if x in words:\n",
    "        return x\n",
    "    else:\n",
    "        can = candidates(x)\n",
    "        if len(can)>0:\n",
    "            p_w = np.array([language_model(c) for c in can])\n",
    "            p_x_w = np.array([error_model(x,c,0.01) for c in can])\n",
    "            return can[np.argmax(p_w*p_x_w)]\n",
    "        else:\n",
    "            return x\n",
    "\n",
    "# TODO: calculate success rate\n",
    "failed1, success_rate = validate(correction_noisy_channel)\n",
    "print(success_rate)\n",
    "for right, c , wrong in failed1[:10]:\n",
    "    if wrong in words:\n",
    "        continue\n",
    "    print(f'Observed: {wrong}\\tCorrected: {c}\\tActual: {right}')\n",
    "\n",
    "print(f'Number of failed words: {len(failed1)}')\n",
    "\n",
    "\n",
    "assert success_rate == 0.8757225433526011\n",
    "correction_noisy_channel('tham')"
   ]
  },
  {
   "cell_type": "markdown",
   "id": "fc77ae94",
   "metadata": {},
   "source": [
    "As you can see tham is now corrected correctly. Unigram models do not include context sensitive information, i.e. which words come before or after $x$. To improve our spelling correction even further we would need to extend the language model to consider the context."
   ]
  }
 ],
 "metadata": {
  "interpreter": {
   "hash": "6e65af4112ca4c6fec3433a0add0d1eaf10def3473331cb252bd027fd87675b1"
  },
  "kernelspec": {
   "display_name": "Python 3.7.1 ('base')",
   "language": "python",
   "name": "python3"
  },
  "language_info": {
   "codemirror_mode": {
    "name": "ipython",
    "version": 3
   },
   "file_extension": ".py",
   "mimetype": "text/x-python",
   "name": "python",
   "nbconvert_exporter": "python",
   "pygments_lexer": "ipython3",
   "version": "3.7.1"
  }
 },
 "nbformat": 4,
 "nbformat_minor": 5
}
