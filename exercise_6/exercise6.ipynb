{
 "cells": [
  {
   "cell_type": "markdown",
   "id": "political-milan",
   "metadata": {},
   "source": [
    "# Exercise 6 - Conjoint Analysis (20 Points)\n",
    "\n",
    "In this exercise you will work mostly on your own. You will have to reread in the lectures script and think about own measures of quality.\n",
    "\n",
    "### Submission\n",
    "\n",
    "- Deadline of submission:\n",
    "        x.y.z\n",
    "- Mail your solution notebook or a link to your gitlab repository (with the solution notebook inside) to:\n",
    "        paul.kahlmeyer@uni-jena.de\n",
    "\n",
    "In the event of a persistent problem, do not hesitate to contact the course instructors.\n",
    "\n",
    "# The Dataset\n",
    "\n",
    "In this exercise we will use preprocessed [statistics of Bundesliga clubs](https://www.whoscored.com/Regions/81/Tournaments/3/Seasons/6902/Stages/15243/TeamStatistics/Germany-Bundesliga-2017-2018) to predict their ranking in the table. Each dataset has the following attributes:\n",
    "\n",
    "- `Team`: team name\n",
    "- `Shots pg`: average shots on opponent goal per game\n",
    "- `Yellow cards`: number of yellow cards\n",
    "- `Red cards`: number of red cards\n",
    "- `Possession%`: average ball possession percentage per game\n",
    "- `Pass%`: average percentage of sucessful passes\n",
    "- `AerialsWon`: average number of aerial duels won per game\n",
    "- `Rank`: rank in the table\n",
    "\n",
    "Each of these attributes was discretized into 3 categories based on the range of values for the season:\n",
    "\n",
    "- 0: lower third of season range\n",
    "- 1: central third of season range\n",
    "- 2: upper third of season range\n",
    "\n",
    "### Task 1 (1 Point)\n",
    "\n",
    "Load and inspect the dataset for the season 2017/2018 stored in `buli_1718.csv`."
   ]
  },
  {
   "cell_type": "code",
   "execution_count": null,
   "id": "burning-privacy",
   "metadata": {
    "scrolled": true
   },
   "outputs": [],
   "source": [
    "# TODO: load season 2017/2018 dataset"
   ]
  },
  {
   "cell_type": "markdown",
   "id": "martial-redhead",
   "metadata": {},
   "source": [
    "In conjoint analysis the dataset has to be a series of choice tasks\n",
    "\\begin{equation}\n",
    "((a^{(i)},b^{(i)}),y^{(i)})\\,,\n",
    "\\end{equation}\n",
    "where $y^{(i)}=1$, if $a$ has been chosen and $-1$ otherwise.\n",
    "\n",
    "We can transform our dataset into choice tasks if we consider $a$ and $b$ as the properties of teams and choose the team with the higher ranking. Of course $a$ and $b$ are **not** containing the ranking themselves.\n",
    "\n",
    "### Task 2 (2 Points)\n",
    "\n",
    "Translate the dataset into a set of choice tasks."
   ]
  },
  {
   "cell_type": "code",
   "execution_count": null,
   "id": "previous-slope",
   "metadata": {},
   "outputs": [],
   "source": [
    "# TODO: translate into dataset ((a,b),y)"
   ]
  },
  {
   "cell_type": "markdown",
   "id": "cleared-corporation",
   "metadata": {},
   "source": [
    "In order to exploit the duality of points and planes, we have to translate the options $a$ and $b$ into the plane\n",
    "\\begin{equation}\n",
    "n^{(i)} = \\mathbb{1}_{a^{(i)}}-\\mathbb{1}_{b^{(i)}}\n",
    "\\end{equation}\n",
    "\n",
    "### Task 3 (2 Points)\n",
    "Reread in the lecture script, how $\\mathbb{1}_{a^{(i)}}$ is defined. \n",
    "Implement a function `vec`, that transforms $a$ into $\\mathbb{1}_{a^{(i)}}$."
   ]
  },
  {
   "cell_type": "code",
   "execution_count": null,
   "id": "hired-telescope",
   "metadata": {},
   "outputs": [],
   "source": [
    "def vec(a):\n",
    "    # TODO: translate item into vectorized form\n",
    "    pass"
   ]
  },
  {
   "cell_type": "markdown",
   "id": "corrected-update",
   "metadata": {},
   "source": [
    "### Task 4 (1 Point)\n",
    "Now use `vec` to translate $((a^{(i)},b^{(i)}),y^{(i)})$ into $(n^{(i)},y^{(i)})$"
   ]
  },
  {
   "cell_type": "code",
   "execution_count": null,
   "id": "narrow-married",
   "metadata": {},
   "outputs": [],
   "source": [
    "# TODO: translate options into planes"
   ]
  },
  {
   "cell_type": "markdown",
   "id": "analyzed-tissue",
   "metadata": {},
   "source": [
    "# Estimation of partworth vector\n",
    "\n",
    "Now we have a set of labeled hyperplanes and are looking for a value function, that can predict which hyperplane we choose. Our main assumption is, that this function is based on a vector of partworths $v$.\n",
    "\n",
    "### Task 5 (2 Points)\n",
    "Reread in the script, how the value function is defined and implement a version `value`, that takes an item $a$ from the dataset and a partworth vector $v$ as input and outputs the value of $a$."
   ]
  },
  {
   "cell_type": "code",
   "execution_count": null,
   "id": "mental-jonathan",
   "metadata": {},
   "outputs": [],
   "source": [
    "def value(a, v):\n",
    "    # TODO: implement value function\n",
    "    pass"
   ]
  },
  {
   "cell_type": "markdown",
   "id": "exposed-ukraine",
   "metadata": {},
   "source": [
    "Thanks to the duality of hyperplanes and points, we can interpret the hyperplanes $n^{(i)}$ as points and the partworth vector $v$ as a hyperplane. With this view, our problem of estimating $v$ reduces to a simple binary classification task.\n",
    "\n",
    "### Task 6 (2 Points)\n",
    "\n",
    "Estimate $v$ using any binary classificator you like. Read in the script, if there are special constraints to the classifier."
   ]
  },
  {
   "cell_type": "code",
   "execution_count": null,
   "id": "welsh-cholesterol",
   "metadata": {},
   "outputs": [],
   "source": [
    "# TODO: use binary classificator"
   ]
  },
  {
   "cell_type": "markdown",
   "id": "alpha-timing",
   "metadata": {},
   "source": [
    "### Task 7 (2 Points)\n",
    "Implement a `predict` function, that takes two items and the partworth vector and outputs -1 or 1.\n",
    "\n",
    "Test this function on the dataset and determine the accuracy. Tune your classifier to get a high accuracy."
   ]
  },
  {
   "cell_type": "code",
   "execution_count": null,
   "id": "reasonable-found",
   "metadata": {},
   "outputs": [],
   "source": [
    "def predict(a,b, v):\n",
    "    # TODO: predict 1 or -1\n",
    "    pass\n",
    "    \n",
    "# TODO: determine accuracy"
   ]
  },
  {
   "cell_type": "markdown",
   "id": "amber-antigua",
   "metadata": {},
   "source": [
    "The estimated partworth vector contains information on the importance of the features on the table rank.\n",
    "\n",
    "As an example, there are three entries in $v$, that correspond to `shots pg` being below average, average or above average in the season. We would expect above average to have the highest value among these three, because teams with more shots per game tend to score more goals and win more games.\n",
    "\n",
    "### Task 8 (2 Points)\n",
    "Visualize the information contained in the partworth vector. How do you interpret this information? Is everything as you would expect?"
   ]
  },
  {
   "cell_type": "code",
   "execution_count": null,
   "id": "beautiful-divide",
   "metadata": {
    "scrolled": true
   },
   "outputs": [],
   "source": [
    "# TODO: visualize + interpret priorities set by v"
   ]
  },
  {
   "cell_type": "markdown",
   "id": "dangerous-investing",
   "metadata": {},
   "source": [
    "# Prediction of table ranking\n",
    "\n",
    "Besides getting an inside into the effect of certain attributes, we can also use the partworth vector to predict the ranking of other items."
   ]
  },
  {
   "cell_type": "markdown",
   "id": "elder-howard",
   "metadata": {},
   "source": [
    "### Task 9 (1 Point)\n",
    "\n",
    "Load the dataset for the season 2018/2019 stored in `buli_1819.csv`."
   ]
  },
  {
   "cell_type": "code",
   "execution_count": null,
   "id": "signed-appointment",
   "metadata": {
    "scrolled": false
   },
   "outputs": [],
   "source": [
    "# TODO: load season 2018/2019 dataset"
   ]
  },
  {
   "cell_type": "markdown",
   "id": "quick-championship",
   "metadata": {},
   "source": [
    "### Task 10 (2 Points)\n",
    "\n",
    "Print the table that you would predict with the partworth vector we estimated from the season 2018/2019.\n",
    "\n",
    "Hint: If Bayern is somewhere on top and Nürnberg somewhere on the bottom, its a good rating ^^"
   ]
  },
  {
   "cell_type": "code",
   "execution_count": null,
   "id": "german-chemical",
   "metadata": {
    "scrolled": true
   },
   "outputs": [],
   "source": [
    "# TODO: print predicted table"
   ]
  },
  {
   "cell_type": "markdown",
   "id": "spectacular-looking",
   "metadata": {},
   "source": [
    "We saw, that $v$ implies an order (ranking) among the items, which results in a table prediction.\n",
    "\n",
    "### Task 11 (3 Points)\n",
    "\n",
    "Define some measure of quality to quantify or good the prediction of the table is compared to the true ranking in the table."
   ]
  },
  {
   "cell_type": "code",
   "execution_count": null,
   "id": "preceding-newton",
   "metadata": {},
   "outputs": [],
   "source": [
    "# TODO: quantify quality of predicted ranking compared to true ranking"
   ]
  }
 ],
 "metadata": {
  "kernelspec": {
   "display_name": "Python 3",
   "language": "python",
   "name": "python3"
  },
  "language_info": {
   "codemirror_mode": {
    "name": "ipython",
    "version": 3
   },
   "file_extension": ".py",
   "mimetype": "text/x-python",
   "name": "python",
   "nbconvert_exporter": "python",
   "pygments_lexer": "ipython3",
   "version": "3.9.1"
  }
 },
 "nbformat": 4,
 "nbformat_minor": 5
}
